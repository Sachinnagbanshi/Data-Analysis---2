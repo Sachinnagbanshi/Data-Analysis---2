{
 "cells": [
  {
   "cell_type": "code",
   "execution_count": 109,
   "id": "b0e6114d",
   "metadata": {},
   "outputs": [],
   "source": [
    "#importing libraries\n",
    "\n",
    "import pandas as pd\n",
    "import numpy as np\n",
    "import matplotlib.pyplot as plt\n",
    "import seaborn as sns\n",
    "%matplotlib inline"
   ]
  },
  {
   "cell_type": "code",
   "execution_count": 110,
   "id": "3a3820d4",
   "metadata": {},
   "outputs": [],
   "source": [
    "applicant_df=pd.read_csv('applicant.csv')"
   ]
  },
  {
   "cell_type": "code",
   "execution_count": 111,
   "id": "a2cff1a1",
   "metadata": {},
   "outputs": [
    {
     "data": {
      "text/html": [
       "<div>\n",
       "<style scoped>\n",
       "    .dataframe tbody tr th:only-of-type {\n",
       "        vertical-align: middle;\n",
       "    }\n",
       "\n",
       "    .dataframe tbody tr th {\n",
       "        vertical-align: top;\n",
       "    }\n",
       "\n",
       "    .dataframe thead th {\n",
       "        text-align: right;\n",
       "    }\n",
       "</style>\n",
       "<table border=\"1\" class=\"dataframe\">\n",
       "  <thead>\n",
       "    <tr style=\"text-align: right;\">\n",
       "      <th></th>\n",
       "      <th>applicant_id</th>\n",
       "      <th>Primary_applicant_age_in_years</th>\n",
       "      <th>Gender</th>\n",
       "      <th>Marital_status</th>\n",
       "      <th>Number_of_dependents</th>\n",
       "      <th>Housing</th>\n",
       "      <th>Years_at_current_residence</th>\n",
       "      <th>Employment_status</th>\n",
       "      <th>Has_been_employed_for_at_least</th>\n",
       "      <th>Has_been_employed_for_at_most</th>\n",
       "      <th>Telephone</th>\n",
       "      <th>Foreign_worker</th>\n",
       "      <th>Savings_account_balance</th>\n",
       "      <th>Balance_in_existing_bank_account_(lower_limit_of_bucket)</th>\n",
       "      <th>Balance_in_existing_bank_account_(upper_limit_of_bucket)</th>\n",
       "    </tr>\n",
       "  </thead>\n",
       "  <tbody>\n",
       "    <tr>\n",
       "      <th>0</th>\n",
       "      <td>1469590</td>\n",
       "      <td>67</td>\n",
       "      <td>male</td>\n",
       "      <td>single</td>\n",
       "      <td>1</td>\n",
       "      <td>own</td>\n",
       "      <td>4</td>\n",
       "      <td>skilled employee / official</td>\n",
       "      <td>7 years</td>\n",
       "      <td>NaN</td>\n",
       "      <td>Registered under the applicant's name</td>\n",
       "      <td>1</td>\n",
       "      <td>NaN</td>\n",
       "      <td>NaN</td>\n",
       "      <td>0</td>\n",
       "    </tr>\n",
       "    <tr>\n",
       "      <th>1</th>\n",
       "      <td>1203873</td>\n",
       "      <td>22</td>\n",
       "      <td>female</td>\n",
       "      <td>divorced/separated/married</td>\n",
       "      <td>1</td>\n",
       "      <td>own</td>\n",
       "      <td>2</td>\n",
       "      <td>skilled employee / official</td>\n",
       "      <td>1 year</td>\n",
       "      <td>4 years</td>\n",
       "      <td>NaN</td>\n",
       "      <td>1</td>\n",
       "      <td>Low</td>\n",
       "      <td>0</td>\n",
       "      <td>2 lac</td>\n",
       "    </tr>\n",
       "    <tr>\n",
       "      <th>2</th>\n",
       "      <td>1432761</td>\n",
       "      <td>49</td>\n",
       "      <td>male</td>\n",
       "      <td>single</td>\n",
       "      <td>2</td>\n",
       "      <td>own</td>\n",
       "      <td>3</td>\n",
       "      <td>unskilled - resident</td>\n",
       "      <td>4 years</td>\n",
       "      <td>7 years</td>\n",
       "      <td>NaN</td>\n",
       "      <td>1</td>\n",
       "      <td>Low</td>\n",
       "      <td>NaN</td>\n",
       "      <td>NaN</td>\n",
       "    </tr>\n",
       "    <tr>\n",
       "      <th>3</th>\n",
       "      <td>1207582</td>\n",
       "      <td>45</td>\n",
       "      <td>male</td>\n",
       "      <td>single</td>\n",
       "      <td>2</td>\n",
       "      <td>for free</td>\n",
       "      <td>4</td>\n",
       "      <td>skilled employee / official</td>\n",
       "      <td>4 years</td>\n",
       "      <td>7 years</td>\n",
       "      <td>NaN</td>\n",
       "      <td>1</td>\n",
       "      <td>Low</td>\n",
       "      <td>NaN</td>\n",
       "      <td>0</td>\n",
       "    </tr>\n",
       "    <tr>\n",
       "      <th>4</th>\n",
       "      <td>1674436</td>\n",
       "      <td>53</td>\n",
       "      <td>male</td>\n",
       "      <td>single</td>\n",
       "      <td>2</td>\n",
       "      <td>for free</td>\n",
       "      <td>4</td>\n",
       "      <td>skilled employee / official</td>\n",
       "      <td>1 year</td>\n",
       "      <td>4 years</td>\n",
       "      <td>NaN</td>\n",
       "      <td>1</td>\n",
       "      <td>Low</td>\n",
       "      <td>NaN</td>\n",
       "      <td>0</td>\n",
       "    </tr>\n",
       "  </tbody>\n",
       "</table>\n",
       "</div>"
      ],
      "text/plain": [
       "   applicant_id  Primary_applicant_age_in_years  Gender  \\\n",
       "0       1469590                              67    male   \n",
       "1       1203873                              22  female   \n",
       "2       1432761                              49    male   \n",
       "3       1207582                              45    male   \n",
       "4       1674436                              53    male   \n",
       "\n",
       "               Marital_status  Number_of_dependents   Housing  \\\n",
       "0                      single                     1       own   \n",
       "1  divorced/separated/married                     1       own   \n",
       "2                      single                     2       own   \n",
       "3                      single                     2  for free   \n",
       "4                      single                     2  for free   \n",
       "\n",
       "   Years_at_current_residence            Employment_status  \\\n",
       "0                           4  skilled employee / official   \n",
       "1                           2  skilled employee / official   \n",
       "2                           3         unskilled - resident   \n",
       "3                           4  skilled employee / official   \n",
       "4                           4  skilled employee / official   \n",
       "\n",
       "  Has_been_employed_for_at_least Has_been_employed_for_at_most  \\\n",
       "0                        7 years                           NaN   \n",
       "1                         1 year                       4 years   \n",
       "2                        4 years                       7 years   \n",
       "3                        4 years                       7 years   \n",
       "4                         1 year                       4 years   \n",
       "\n",
       "                               Telephone  Foreign_worker  \\\n",
       "0  Registered under the applicant's name               1   \n",
       "1                                    NaN               1   \n",
       "2                                    NaN               1   \n",
       "3                                    NaN               1   \n",
       "4                                    NaN               1   \n",
       "\n",
       "  Savings_account_balance  \\\n",
       "0                     NaN   \n",
       "1                     Low   \n",
       "2                     Low   \n",
       "3                     Low   \n",
       "4                     Low   \n",
       "\n",
       "  Balance_in_existing_bank_account_(lower_limit_of_bucket)  \\\n",
       "0                                                NaN         \n",
       "1                                                  0         \n",
       "2                                                NaN         \n",
       "3                                                NaN         \n",
       "4                                                NaN         \n",
       "\n",
       "  Balance_in_existing_bank_account_(upper_limit_of_bucket)  \n",
       "0                                                  0        \n",
       "1                                              2 lac        \n",
       "2                                                NaN        \n",
       "3                                                  0        \n",
       "4                                                  0        "
      ]
     },
     "execution_count": 111,
     "metadata": {},
     "output_type": "execute_result"
    }
   ],
   "source": [
    "applicant_df.head()"
   ]
  },
  {
   "cell_type": "code",
   "execution_count": 112,
   "id": "a0b4090c",
   "metadata": {},
   "outputs": [],
   "source": [
    "loan_df=pd.read_csv('loan.csv')"
   ]
  },
  {
   "cell_type": "code",
   "execution_count": 113,
   "id": "47c4903e",
   "metadata": {},
   "outputs": [
    {
     "data": {
      "text/html": [
       "<div>\n",
       "<style scoped>\n",
       "    .dataframe tbody tr th:only-of-type {\n",
       "        vertical-align: middle;\n",
       "    }\n",
       "\n",
       "    .dataframe tbody tr th {\n",
       "        vertical-align: top;\n",
       "    }\n",
       "\n",
       "    .dataframe thead th {\n",
       "        text-align: right;\n",
       "    }\n",
       "</style>\n",
       "<table border=\"1\" class=\"dataframe\">\n",
       "  <thead>\n",
       "    <tr style=\"text-align: right;\">\n",
       "      <th></th>\n",
       "      <th>loan_application_id</th>\n",
       "      <th>applicant_id</th>\n",
       "      <th>Months_loan_taken_for</th>\n",
       "      <th>Purpose</th>\n",
       "      <th>Principal_loan_amount</th>\n",
       "      <th>EMI_rate_in_percentage_of_disposable_income</th>\n",
       "      <th>Property</th>\n",
       "      <th>Has_coapplicant</th>\n",
       "      <th>Has_guarantor</th>\n",
       "      <th>Other_EMI_plans</th>\n",
       "      <th>Number_of_existing_loans_at_this_bank</th>\n",
       "      <th>Loan_history</th>\n",
       "      <th>high_risk_applicant</th>\n",
       "    </tr>\n",
       "  </thead>\n",
       "  <tbody>\n",
       "    <tr>\n",
       "      <th>0</th>\n",
       "      <td>d68d975e-edad-11ea-8761-1d6f9c1ff461</td>\n",
       "      <td>1469590</td>\n",
       "      <td>6</td>\n",
       "      <td>electronic equipment</td>\n",
       "      <td>1169000</td>\n",
       "      <td>4</td>\n",
       "      <td>real estate</td>\n",
       "      <td>0</td>\n",
       "      <td>0</td>\n",
       "      <td>NaN</td>\n",
       "      <td>2</td>\n",
       "      <td>critical/pending loans at other banks</td>\n",
       "      <td>0</td>\n",
       "    </tr>\n",
       "    <tr>\n",
       "      <th>1</th>\n",
       "      <td>d68d989e-edad-11ea-b1d5-2bcf65006448</td>\n",
       "      <td>1203873</td>\n",
       "      <td>48</td>\n",
       "      <td>electronic equipment</td>\n",
       "      <td>5951000</td>\n",
       "      <td>2</td>\n",
       "      <td>real estate</td>\n",
       "      <td>0</td>\n",
       "      <td>0</td>\n",
       "      <td>NaN</td>\n",
       "      <td>1</td>\n",
       "      <td>existing loans paid back duly till now</td>\n",
       "      <td>1</td>\n",
       "    </tr>\n",
       "    <tr>\n",
       "      <th>2</th>\n",
       "      <td>d68d995c-edad-11ea-814a-1b6716782575</td>\n",
       "      <td>1432761</td>\n",
       "      <td>12</td>\n",
       "      <td>education</td>\n",
       "      <td>2096000</td>\n",
       "      <td>2</td>\n",
       "      <td>real estate</td>\n",
       "      <td>0</td>\n",
       "      <td>0</td>\n",
       "      <td>NaN</td>\n",
       "      <td>1</td>\n",
       "      <td>critical/pending loans at other banks</td>\n",
       "      <td>0</td>\n",
       "    </tr>\n",
       "    <tr>\n",
       "      <th>3</th>\n",
       "      <td>d68d99fc-edad-11ea-8841-17e8848060ae</td>\n",
       "      <td>1207582</td>\n",
       "      <td>42</td>\n",
       "      <td>FF&amp;E</td>\n",
       "      <td>7882000</td>\n",
       "      <td>2</td>\n",
       "      <td>building society savings agreement/life insurance</td>\n",
       "      <td>0</td>\n",
       "      <td>1</td>\n",
       "      <td>NaN</td>\n",
       "      <td>1</td>\n",
       "      <td>existing loans paid back duly till now</td>\n",
       "      <td>0</td>\n",
       "    </tr>\n",
       "    <tr>\n",
       "      <th>4</th>\n",
       "      <td>d68d9a92-edad-11ea-9f3d-1f8682db006a</td>\n",
       "      <td>1674436</td>\n",
       "      <td>24</td>\n",
       "      <td>new vehicle</td>\n",
       "      <td>4870000</td>\n",
       "      <td>3</td>\n",
       "      <td>NaN</td>\n",
       "      <td>0</td>\n",
       "      <td>0</td>\n",
       "      <td>NaN</td>\n",
       "      <td>2</td>\n",
       "      <td>delay in paying off loans in the past</td>\n",
       "      <td>1</td>\n",
       "    </tr>\n",
       "    <tr>\n",
       "      <th>...</th>\n",
       "      <td>...</td>\n",
       "      <td>...</td>\n",
       "      <td>...</td>\n",
       "      <td>...</td>\n",
       "      <td>...</td>\n",
       "      <td>...</td>\n",
       "      <td>...</td>\n",
       "      <td>...</td>\n",
       "      <td>...</td>\n",
       "      <td>...</td>\n",
       "      <td>...</td>\n",
       "      <td>...</td>\n",
       "      <td>...</td>\n",
       "    </tr>\n",
       "    <tr>\n",
       "      <th>995</th>\n",
       "      <td>d68fbba6-edad-11ea-80fe-30b2f9300e3d</td>\n",
       "      <td>1880194</td>\n",
       "      <td>12</td>\n",
       "      <td>FF&amp;E</td>\n",
       "      <td>1736000</td>\n",
       "      <td>3</td>\n",
       "      <td>real estate</td>\n",
       "      <td>0</td>\n",
       "      <td>0</td>\n",
       "      <td>NaN</td>\n",
       "      <td>1</td>\n",
       "      <td>existing loans paid back duly till now</td>\n",
       "      <td>0</td>\n",
       "    </tr>\n",
       "    <tr>\n",
       "      <th>996</th>\n",
       "      <td>d68fbc28-edad-11ea-bc62-4240ac0824fa</td>\n",
       "      <td>1114064</td>\n",
       "      <td>30</td>\n",
       "      <td>used vehicle</td>\n",
       "      <td>3857000</td>\n",
       "      <td>4</td>\n",
       "      <td>building society savings agreement/life insurance</td>\n",
       "      <td>0</td>\n",
       "      <td>0</td>\n",
       "      <td>NaN</td>\n",
       "      <td>1</td>\n",
       "      <td>existing loans paid back duly till now</td>\n",
       "      <td>0</td>\n",
       "    </tr>\n",
       "    <tr>\n",
       "      <th>997</th>\n",
       "      <td>d68fbcaa-edad-11ea-aafc-2de1139e42cd</td>\n",
       "      <td>1758046</td>\n",
       "      <td>12</td>\n",
       "      <td>electronic equipment</td>\n",
       "      <td>804000</td>\n",
       "      <td>4</td>\n",
       "      <td>car or other</td>\n",
       "      <td>0</td>\n",
       "      <td>0</td>\n",
       "      <td>NaN</td>\n",
       "      <td>1</td>\n",
       "      <td>existing loans paid back duly till now</td>\n",
       "      <td>0</td>\n",
       "    </tr>\n",
       "    <tr>\n",
       "      <th>998</th>\n",
       "      <td>d68fbd2c-edad-11ea-b49e-2894666f2df6</td>\n",
       "      <td>1824545</td>\n",
       "      <td>45</td>\n",
       "      <td>electronic equipment</td>\n",
       "      <td>1845000</td>\n",
       "      <td>4</td>\n",
       "      <td>NaN</td>\n",
       "      <td>0</td>\n",
       "      <td>0</td>\n",
       "      <td>NaN</td>\n",
       "      <td>1</td>\n",
       "      <td>existing loans paid back duly till now</td>\n",
       "      <td>1</td>\n",
       "    </tr>\n",
       "    <tr>\n",
       "      <th>999</th>\n",
       "      <td>d68fbdae-edad-11ea-a2ea-1c661d77d225</td>\n",
       "      <td>1660770</td>\n",
       "      <td>45</td>\n",
       "      <td>used vehicle</td>\n",
       "      <td>4576000</td>\n",
       "      <td>3</td>\n",
       "      <td>car or other</td>\n",
       "      <td>0</td>\n",
       "      <td>0</td>\n",
       "      <td>NaN</td>\n",
       "      <td>1</td>\n",
       "      <td>critical/pending loans at other banks</td>\n",
       "      <td>0</td>\n",
       "    </tr>\n",
       "  </tbody>\n",
       "</table>\n",
       "<p>1000 rows × 13 columns</p>\n",
       "</div>"
      ],
      "text/plain": [
       "                      loan_application_id  applicant_id  \\\n",
       "0    d68d975e-edad-11ea-8761-1d6f9c1ff461       1469590   \n",
       "1    d68d989e-edad-11ea-b1d5-2bcf65006448       1203873   \n",
       "2    d68d995c-edad-11ea-814a-1b6716782575       1432761   \n",
       "3    d68d99fc-edad-11ea-8841-17e8848060ae       1207582   \n",
       "4    d68d9a92-edad-11ea-9f3d-1f8682db006a       1674436   \n",
       "..                                    ...           ...   \n",
       "995  d68fbba6-edad-11ea-80fe-30b2f9300e3d       1880194   \n",
       "996  d68fbc28-edad-11ea-bc62-4240ac0824fa       1114064   \n",
       "997  d68fbcaa-edad-11ea-aafc-2de1139e42cd       1758046   \n",
       "998  d68fbd2c-edad-11ea-b49e-2894666f2df6       1824545   \n",
       "999  d68fbdae-edad-11ea-a2ea-1c661d77d225       1660770   \n",
       "\n",
       "     Months_loan_taken_for               Purpose  Principal_loan_amount  \\\n",
       "0                        6  electronic equipment                1169000   \n",
       "1                       48  electronic equipment                5951000   \n",
       "2                       12             education                2096000   \n",
       "3                       42                  FF&E                7882000   \n",
       "4                       24           new vehicle                4870000   \n",
       "..                     ...                   ...                    ...   \n",
       "995                     12                  FF&E                1736000   \n",
       "996                     30          used vehicle                3857000   \n",
       "997                     12  electronic equipment                 804000   \n",
       "998                     45  electronic equipment                1845000   \n",
       "999                     45          used vehicle                4576000   \n",
       "\n",
       "     EMI_rate_in_percentage_of_disposable_income  \\\n",
       "0                                              4   \n",
       "1                                              2   \n",
       "2                                              2   \n",
       "3                                              2   \n",
       "4                                              3   \n",
       "..                                           ...   \n",
       "995                                            3   \n",
       "996                                            4   \n",
       "997                                            4   \n",
       "998                                            4   \n",
       "999                                            3   \n",
       "\n",
       "                                              Property  Has_coapplicant  \\\n",
       "0                                          real estate                0   \n",
       "1                                          real estate                0   \n",
       "2                                          real estate                0   \n",
       "3    building society savings agreement/life insurance                0   \n",
       "4                                                  NaN                0   \n",
       "..                                                 ...              ...   \n",
       "995                                        real estate                0   \n",
       "996  building society savings agreement/life insurance                0   \n",
       "997                                       car or other                0   \n",
       "998                                                NaN                0   \n",
       "999                                       car or other                0   \n",
       "\n",
       "     Has_guarantor Other_EMI_plans  Number_of_existing_loans_at_this_bank  \\\n",
       "0                0             NaN                                      2   \n",
       "1                0             NaN                                      1   \n",
       "2                0             NaN                                      1   \n",
       "3                1             NaN                                      1   \n",
       "4                0             NaN                                      2   \n",
       "..             ...             ...                                    ...   \n",
       "995              0             NaN                                      1   \n",
       "996              0             NaN                                      1   \n",
       "997              0             NaN                                      1   \n",
       "998              0             NaN                                      1   \n",
       "999              0             NaN                                      1   \n",
       "\n",
       "                               Loan_history  high_risk_applicant  \n",
       "0     critical/pending loans at other banks                    0  \n",
       "1    existing loans paid back duly till now                    1  \n",
       "2     critical/pending loans at other banks                    0  \n",
       "3    existing loans paid back duly till now                    0  \n",
       "4     delay in paying off loans in the past                    1  \n",
       "..                                      ...                  ...  \n",
       "995  existing loans paid back duly till now                    0  \n",
       "996  existing loans paid back duly till now                    0  \n",
       "997  existing loans paid back duly till now                    0  \n",
       "998  existing loans paid back duly till now                    1  \n",
       "999   critical/pending loans at other banks                    0  \n",
       "\n",
       "[1000 rows x 13 columns]"
      ]
     },
     "execution_count": 113,
     "metadata": {},
     "output_type": "execute_result"
    }
   ],
   "source": [
    "loan_df"
   ]
  },
  {
   "cell_type": "code",
   "execution_count": 114,
   "id": "2e3a3ac8",
   "metadata": {},
   "outputs": [
    {
     "data": {
      "text/html": [
       "<div>\n",
       "<style scoped>\n",
       "    .dataframe tbody tr th:only-of-type {\n",
       "        vertical-align: middle;\n",
       "    }\n",
       "\n",
       "    .dataframe tbody tr th {\n",
       "        vertical-align: top;\n",
       "    }\n",
       "\n",
       "    .dataframe thead th {\n",
       "        text-align: right;\n",
       "    }\n",
       "</style>\n",
       "<table border=\"1\" class=\"dataframe\">\n",
       "  <thead>\n",
       "    <tr style=\"text-align: right;\">\n",
       "      <th></th>\n",
       "      <th>applicant_id</th>\n",
       "      <th>Primary_applicant_age_in_years</th>\n",
       "      <th>Gender</th>\n",
       "      <th>Marital_status</th>\n",
       "      <th>Number_of_dependents</th>\n",
       "      <th>Housing</th>\n",
       "      <th>Years_at_current_residence</th>\n",
       "      <th>Employment_status</th>\n",
       "      <th>Has_been_employed_for_at_least</th>\n",
       "      <th>Has_been_employed_for_at_most</th>\n",
       "      <th>Telephone</th>\n",
       "      <th>Foreign_worker</th>\n",
       "      <th>Savings_account_balance</th>\n",
       "      <th>Balance_in_existing_bank_account_(lower_limit_of_bucket)</th>\n",
       "      <th>Balance_in_existing_bank_account_(upper_limit_of_bucket)</th>\n",
       "    </tr>\n",
       "  </thead>\n",
       "  <tbody>\n",
       "    <tr>\n",
       "      <th>0</th>\n",
       "      <td>1469590</td>\n",
       "      <td>67</td>\n",
       "      <td>male</td>\n",
       "      <td>single</td>\n",
       "      <td>1</td>\n",
       "      <td>own</td>\n",
       "      <td>4</td>\n",
       "      <td>skilled employee / official</td>\n",
       "      <td>7 years</td>\n",
       "      <td>NaN</td>\n",
       "      <td>Registered under the applicant's name</td>\n",
       "      <td>1</td>\n",
       "      <td>NaN</td>\n",
       "      <td>NaN</td>\n",
       "      <td>0</td>\n",
       "    </tr>\n",
       "    <tr>\n",
       "      <th>1</th>\n",
       "      <td>1203873</td>\n",
       "      <td>22</td>\n",
       "      <td>female</td>\n",
       "      <td>divorced/separated/married</td>\n",
       "      <td>1</td>\n",
       "      <td>own</td>\n",
       "      <td>2</td>\n",
       "      <td>skilled employee / official</td>\n",
       "      <td>1 year</td>\n",
       "      <td>4 years</td>\n",
       "      <td>NaN</td>\n",
       "      <td>1</td>\n",
       "      <td>Low</td>\n",
       "      <td>0</td>\n",
       "      <td>2 lac</td>\n",
       "    </tr>\n",
       "    <tr>\n",
       "      <th>2</th>\n",
       "      <td>1432761</td>\n",
       "      <td>49</td>\n",
       "      <td>male</td>\n",
       "      <td>single</td>\n",
       "      <td>2</td>\n",
       "      <td>own</td>\n",
       "      <td>3</td>\n",
       "      <td>unskilled - resident</td>\n",
       "      <td>4 years</td>\n",
       "      <td>7 years</td>\n",
       "      <td>NaN</td>\n",
       "      <td>1</td>\n",
       "      <td>Low</td>\n",
       "      <td>NaN</td>\n",
       "      <td>NaN</td>\n",
       "    </tr>\n",
       "    <tr>\n",
       "      <th>3</th>\n",
       "      <td>1207582</td>\n",
       "      <td>45</td>\n",
       "      <td>male</td>\n",
       "      <td>single</td>\n",
       "      <td>2</td>\n",
       "      <td>for free</td>\n",
       "      <td>4</td>\n",
       "      <td>skilled employee / official</td>\n",
       "      <td>4 years</td>\n",
       "      <td>7 years</td>\n",
       "      <td>NaN</td>\n",
       "      <td>1</td>\n",
       "      <td>Low</td>\n",
       "      <td>NaN</td>\n",
       "      <td>0</td>\n",
       "    </tr>\n",
       "    <tr>\n",
       "      <th>4</th>\n",
       "      <td>1674436</td>\n",
       "      <td>53</td>\n",
       "      <td>male</td>\n",
       "      <td>single</td>\n",
       "      <td>2</td>\n",
       "      <td>for free</td>\n",
       "      <td>4</td>\n",
       "      <td>skilled employee / official</td>\n",
       "      <td>1 year</td>\n",
       "      <td>4 years</td>\n",
       "      <td>NaN</td>\n",
       "      <td>1</td>\n",
       "      <td>Low</td>\n",
       "      <td>NaN</td>\n",
       "      <td>0</td>\n",
       "    </tr>\n",
       "    <tr>\n",
       "      <th>...</th>\n",
       "      <td>...</td>\n",
       "      <td>...</td>\n",
       "      <td>...</td>\n",
       "      <td>...</td>\n",
       "      <td>...</td>\n",
       "      <td>...</td>\n",
       "      <td>...</td>\n",
       "      <td>...</td>\n",
       "      <td>...</td>\n",
       "      <td>...</td>\n",
       "      <td>...</td>\n",
       "      <td>...</td>\n",
       "      <td>...</td>\n",
       "      <td>...</td>\n",
       "      <td>...</td>\n",
       "    </tr>\n",
       "    <tr>\n",
       "      <th>995</th>\n",
       "      <td>1880194</td>\n",
       "      <td>31</td>\n",
       "      <td>female</td>\n",
       "      <td>divorced/separated/married</td>\n",
       "      <td>1</td>\n",
       "      <td>own</td>\n",
       "      <td>4</td>\n",
       "      <td>unskilled - resident</td>\n",
       "      <td>4 years</td>\n",
       "      <td>7 years</td>\n",
       "      <td>NaN</td>\n",
       "      <td>1</td>\n",
       "      <td>Low</td>\n",
       "      <td>NaN</td>\n",
       "      <td>NaN</td>\n",
       "    </tr>\n",
       "    <tr>\n",
       "      <th>996</th>\n",
       "      <td>1114064</td>\n",
       "      <td>40</td>\n",
       "      <td>male</td>\n",
       "      <td>divorced/separated</td>\n",
       "      <td>1</td>\n",
       "      <td>own</td>\n",
       "      <td>4</td>\n",
       "      <td>management / self-employed / highly qualified ...</td>\n",
       "      <td>1 year</td>\n",
       "      <td>4 years</td>\n",
       "      <td>Registered under the applicant's name</td>\n",
       "      <td>1</td>\n",
       "      <td>Low</td>\n",
       "      <td>NaN</td>\n",
       "      <td>0</td>\n",
       "    </tr>\n",
       "    <tr>\n",
       "      <th>997</th>\n",
       "      <td>1758046</td>\n",
       "      <td>38</td>\n",
       "      <td>male</td>\n",
       "      <td>single</td>\n",
       "      <td>1</td>\n",
       "      <td>own</td>\n",
       "      <td>4</td>\n",
       "      <td>skilled employee / official</td>\n",
       "      <td>7 years</td>\n",
       "      <td>NaN</td>\n",
       "      <td>NaN</td>\n",
       "      <td>1</td>\n",
       "      <td>Low</td>\n",
       "      <td>NaN</td>\n",
       "      <td>NaN</td>\n",
       "    </tr>\n",
       "    <tr>\n",
       "      <th>998</th>\n",
       "      <td>1824545</td>\n",
       "      <td>23</td>\n",
       "      <td>male</td>\n",
       "      <td>single</td>\n",
       "      <td>1</td>\n",
       "      <td>for free</td>\n",
       "      <td>4</td>\n",
       "      <td>skilled employee / official</td>\n",
       "      <td>1 year</td>\n",
       "      <td>4 years</td>\n",
       "      <td>Registered under the applicant's name</td>\n",
       "      <td>1</td>\n",
       "      <td>Low</td>\n",
       "      <td>NaN</td>\n",
       "      <td>0</td>\n",
       "    </tr>\n",
       "    <tr>\n",
       "      <th>999</th>\n",
       "      <td>1660770</td>\n",
       "      <td>27</td>\n",
       "      <td>male</td>\n",
       "      <td>single</td>\n",
       "      <td>1</td>\n",
       "      <td>own</td>\n",
       "      <td>4</td>\n",
       "      <td>skilled employee / official</td>\n",
       "      <td>NaN</td>\n",
       "      <td>0 year</td>\n",
       "      <td>NaN</td>\n",
       "      <td>1</td>\n",
       "      <td>Medium</td>\n",
       "      <td>0</td>\n",
       "      <td>2 lac</td>\n",
       "    </tr>\n",
       "  </tbody>\n",
       "</table>\n",
       "<p>1000 rows × 15 columns</p>\n",
       "</div>"
      ],
      "text/plain": [
       "     applicant_id  Primary_applicant_age_in_years  Gender  \\\n",
       "0         1469590                              67    male   \n",
       "1         1203873                              22  female   \n",
       "2         1432761                              49    male   \n",
       "3         1207582                              45    male   \n",
       "4         1674436                              53    male   \n",
       "..            ...                             ...     ...   \n",
       "995       1880194                              31  female   \n",
       "996       1114064                              40    male   \n",
       "997       1758046                              38    male   \n",
       "998       1824545                              23    male   \n",
       "999       1660770                              27    male   \n",
       "\n",
       "                 Marital_status  Number_of_dependents   Housing  \\\n",
       "0                        single                     1       own   \n",
       "1    divorced/separated/married                     1       own   \n",
       "2                        single                     2       own   \n",
       "3                        single                     2  for free   \n",
       "4                        single                     2  for free   \n",
       "..                          ...                   ...       ...   \n",
       "995  divorced/separated/married                     1       own   \n",
       "996          divorced/separated                     1       own   \n",
       "997                      single                     1       own   \n",
       "998                      single                     1  for free   \n",
       "999                      single                     1       own   \n",
       "\n",
       "     Years_at_current_residence  \\\n",
       "0                             4   \n",
       "1                             2   \n",
       "2                             3   \n",
       "3                             4   \n",
       "4                             4   \n",
       "..                          ...   \n",
       "995                           4   \n",
       "996                           4   \n",
       "997                           4   \n",
       "998                           4   \n",
       "999                           4   \n",
       "\n",
       "                                     Employment_status  \\\n",
       "0                          skilled employee / official   \n",
       "1                          skilled employee / official   \n",
       "2                                 unskilled - resident   \n",
       "3                          skilled employee / official   \n",
       "4                          skilled employee / official   \n",
       "..                                                 ...   \n",
       "995                               unskilled - resident   \n",
       "996  management / self-employed / highly qualified ...   \n",
       "997                        skilled employee / official   \n",
       "998                        skilled employee / official   \n",
       "999                        skilled employee / official   \n",
       "\n",
       "    Has_been_employed_for_at_least Has_been_employed_for_at_most  \\\n",
       "0                          7 years                           NaN   \n",
       "1                           1 year                       4 years   \n",
       "2                          4 years                       7 years   \n",
       "3                          4 years                       7 years   \n",
       "4                           1 year                       4 years   \n",
       "..                             ...                           ...   \n",
       "995                        4 years                       7 years   \n",
       "996                         1 year                       4 years   \n",
       "997                        7 years                           NaN   \n",
       "998                         1 year                       4 years   \n",
       "999                            NaN                        0 year   \n",
       "\n",
       "                                 Telephone  Foreign_worker  \\\n",
       "0    Registered under the applicant's name               1   \n",
       "1                                      NaN               1   \n",
       "2                                      NaN               1   \n",
       "3                                      NaN               1   \n",
       "4                                      NaN               1   \n",
       "..                                     ...             ...   \n",
       "995                                    NaN               1   \n",
       "996  Registered under the applicant's name               1   \n",
       "997                                    NaN               1   \n",
       "998  Registered under the applicant's name               1   \n",
       "999                                    NaN               1   \n",
       "\n",
       "    Savings_account_balance  \\\n",
       "0                       NaN   \n",
       "1                       Low   \n",
       "2                       Low   \n",
       "3                       Low   \n",
       "4                       Low   \n",
       "..                      ...   \n",
       "995                     Low   \n",
       "996                     Low   \n",
       "997                     Low   \n",
       "998                     Low   \n",
       "999                  Medium   \n",
       "\n",
       "    Balance_in_existing_bank_account_(lower_limit_of_bucket)  \\\n",
       "0                                                  NaN         \n",
       "1                                                    0         \n",
       "2                                                  NaN         \n",
       "3                                                  NaN         \n",
       "4                                                  NaN         \n",
       "..                                                 ...         \n",
       "995                                                NaN         \n",
       "996                                                NaN         \n",
       "997                                                NaN         \n",
       "998                                                NaN         \n",
       "999                                                  0         \n",
       "\n",
       "    Balance_in_existing_bank_account_(upper_limit_of_bucket)  \n",
       "0                                                    0        \n",
       "1                                                2 lac        \n",
       "2                                                  NaN        \n",
       "3                                                    0        \n",
       "4                                                    0        \n",
       "..                                                 ...        \n",
       "995                                                NaN        \n",
       "996                                                  0        \n",
       "997                                                NaN        \n",
       "998                                                  0        \n",
       "999                                              2 lac        \n",
       "\n",
       "[1000 rows x 15 columns]"
      ]
     },
     "execution_count": 114,
     "metadata": {},
     "output_type": "execute_result"
    }
   ],
   "source": [
    "applicant_df"
   ]
  },
  {
   "cell_type": "code",
   "execution_count": 115,
   "id": "ae7102f9",
   "metadata": {},
   "outputs": [
    {
     "data": {
      "text/html": [
       "<div>\n",
       "<style scoped>\n",
       "    .dataframe tbody tr th:only-of-type {\n",
       "        vertical-align: middle;\n",
       "    }\n",
       "\n",
       "    .dataframe tbody tr th {\n",
       "        vertical-align: top;\n",
       "    }\n",
       "\n",
       "    .dataframe thead th {\n",
       "        text-align: right;\n",
       "    }\n",
       "</style>\n",
       "<table border=\"1\" class=\"dataframe\">\n",
       "  <thead>\n",
       "    <tr style=\"text-align: right;\">\n",
       "      <th></th>\n",
       "      <th>count</th>\n",
       "      <th>mean</th>\n",
       "      <th>std</th>\n",
       "      <th>min</th>\n",
       "      <th>25%</th>\n",
       "      <th>50%</th>\n",
       "      <th>75%</th>\n",
       "      <th>max</th>\n",
       "    </tr>\n",
       "  </thead>\n",
       "  <tbody>\n",
       "    <tr>\n",
       "      <th>applicant_id</th>\n",
       "      <td>1000.0</td>\n",
       "      <td>1514763.121</td>\n",
       "      <td>228676.373346</td>\n",
       "      <td>1105364.0</td>\n",
       "      <td>1321398.0</td>\n",
       "      <td>1529114.5</td>\n",
       "      <td>1707751.75</td>\n",
       "      <td>1903505.0</td>\n",
       "    </tr>\n",
       "    <tr>\n",
       "      <th>Primary_applicant_age_in_years</th>\n",
       "      <td>1000.0</td>\n",
       "      <td>35.546</td>\n",
       "      <td>11.375469</td>\n",
       "      <td>19.0</td>\n",
       "      <td>27.0</td>\n",
       "      <td>33.0</td>\n",
       "      <td>42.00</td>\n",
       "      <td>75.0</td>\n",
       "    </tr>\n",
       "    <tr>\n",
       "      <th>Number_of_dependents</th>\n",
       "      <td>1000.0</td>\n",
       "      <td>1.155</td>\n",
       "      <td>0.362086</td>\n",
       "      <td>1.0</td>\n",
       "      <td>1.0</td>\n",
       "      <td>1.0</td>\n",
       "      <td>1.00</td>\n",
       "      <td>2.0</td>\n",
       "    </tr>\n",
       "    <tr>\n",
       "      <th>Years_at_current_residence</th>\n",
       "      <td>1000.0</td>\n",
       "      <td>2.845</td>\n",
       "      <td>1.103718</td>\n",
       "      <td>1.0</td>\n",
       "      <td>2.0</td>\n",
       "      <td>3.0</td>\n",
       "      <td>4.00</td>\n",
       "      <td>4.0</td>\n",
       "    </tr>\n",
       "    <tr>\n",
       "      <th>Foreign_worker</th>\n",
       "      <td>1000.0</td>\n",
       "      <td>0.963</td>\n",
       "      <td>0.188856</td>\n",
       "      <td>0.0</td>\n",
       "      <td>1.0</td>\n",
       "      <td>1.0</td>\n",
       "      <td>1.00</td>\n",
       "      <td>1.0</td>\n",
       "    </tr>\n",
       "  </tbody>\n",
       "</table>\n",
       "</div>"
      ],
      "text/plain": [
       "                                 count         mean            std        min  \\\n",
       "applicant_id                    1000.0  1514763.121  228676.373346  1105364.0   \n",
       "Primary_applicant_age_in_years  1000.0       35.546      11.375469       19.0   \n",
       "Number_of_dependents            1000.0        1.155       0.362086        1.0   \n",
       "Years_at_current_residence      1000.0        2.845       1.103718        1.0   \n",
       "Foreign_worker                  1000.0        0.963       0.188856        0.0   \n",
       "\n",
       "                                      25%        50%         75%        max  \n",
       "applicant_id                    1321398.0  1529114.5  1707751.75  1903505.0  \n",
       "Primary_applicant_age_in_years       27.0       33.0       42.00       75.0  \n",
       "Number_of_dependents                  1.0        1.0        1.00        2.0  \n",
       "Years_at_current_residence            2.0        3.0        4.00        4.0  \n",
       "Foreign_worker                        1.0        1.0        1.00        1.0  "
      ]
     },
     "execution_count": 115,
     "metadata": {},
     "output_type": "execute_result"
    }
   ],
   "source": [
    "applicant_df.describe().T"
   ]
  },
  {
   "cell_type": "code",
   "execution_count": null,
   "id": "9340d6ce",
   "metadata": {},
   "outputs": [],
   "source": []
  },
  {
   "cell_type": "code",
   "execution_count": 195,
   "id": "45b5af49",
   "metadata": {},
   "outputs": [],
   "source": [
    "#joining the dataframes\n",
    "\n",
    "df=pd.merge(left=applicant_df,right=loan_df,left_on=applicant_df['applicant_id'],right_on=loan_df['applicant_id'],how='inner')"
   ]
  },
  {
   "cell_type": "code",
   "execution_count": null,
   "id": "976694e3",
   "metadata": {},
   "outputs": [],
   "source": []
  },
  {
   "cell_type": "code",
   "execution_count": 117,
   "id": "1cb7b81e",
   "metadata": {},
   "outputs": [
    {
     "data": {
      "text/plain": [
       "29"
      ]
     },
     "execution_count": 117,
     "metadata": {},
     "output_type": "execute_result"
    }
   ],
   "source": [
    "len(df.columns)"
   ]
  },
  {
   "cell_type": "code",
   "execution_count": 118,
   "id": "247d5d93",
   "metadata": {},
   "outputs": [
    {
     "data": {
      "text/plain": [
       "Index(['key_0', 'applicant_id_x', 'Primary_applicant_age_in_years', 'Gender',\n",
       "       'Marital_status', 'Number_of_dependents', 'Housing',\n",
       "       'Years_at_current_residence', 'Employment_status',\n",
       "       'Has_been_employed_for_at_least', 'Has_been_employed_for_at_most',\n",
       "       'Telephone', 'Foreign_worker', 'Savings_account_balance',\n",
       "       'Balance_in_existing_bank_account_(lower_limit_of_bucket)',\n",
       "       'Balance_in_existing_bank_account_(upper_limit_of_bucket)',\n",
       "       'loan_application_id', 'applicant_id_y', 'Months_loan_taken_for',\n",
       "       'Purpose', 'Principal_loan_amount',\n",
       "       'EMI_rate_in_percentage_of_disposable_income', 'Property',\n",
       "       'Has_coapplicant', 'Has_guarantor', 'Other_EMI_plans',\n",
       "       'Number_of_existing_loans_at_this_bank', 'Loan_history',\n",
       "       'high_risk_applicant'],\n",
       "      dtype='object')"
      ]
     },
     "execution_count": 118,
     "metadata": {},
     "output_type": "execute_result"
    }
   ],
   "source": [
    "df.columns"
   ]
  },
  {
   "cell_type": "code",
   "execution_count": 119,
   "id": "6d48fdfd",
   "metadata": {},
   "outputs": [
    {
     "data": {
      "text/html": [
       "<div>\n",
       "<style scoped>\n",
       "    .dataframe tbody tr th:only-of-type {\n",
       "        vertical-align: middle;\n",
       "    }\n",
       "\n",
       "    .dataframe tbody tr th {\n",
       "        vertical-align: top;\n",
       "    }\n",
       "\n",
       "    .dataframe thead th {\n",
       "        text-align: right;\n",
       "    }\n",
       "</style>\n",
       "<table border=\"1\" class=\"dataframe\">\n",
       "  <thead>\n",
       "    <tr style=\"text-align: right;\">\n",
       "      <th></th>\n",
       "      <th>count</th>\n",
       "      <th>mean</th>\n",
       "      <th>min</th>\n",
       "      <th>25%</th>\n",
       "      <th>50%</th>\n",
       "      <th>75%</th>\n",
       "      <th>max</th>\n",
       "    </tr>\n",
       "  </thead>\n",
       "  <tbody>\n",
       "    <tr>\n",
       "      <th>key_0</th>\n",
       "      <td>1000.0</td>\n",
       "      <td>1514763.121</td>\n",
       "      <td>1105364.0</td>\n",
       "      <td>1321398.0</td>\n",
       "      <td>1529114.5</td>\n",
       "      <td>1707751.75</td>\n",
       "      <td>1903505.0</td>\n",
       "    </tr>\n",
       "    <tr>\n",
       "      <th>applicant_id_x</th>\n",
       "      <td>1000.0</td>\n",
       "      <td>1514763.121</td>\n",
       "      <td>1105364.0</td>\n",
       "      <td>1321398.0</td>\n",
       "      <td>1529114.5</td>\n",
       "      <td>1707751.75</td>\n",
       "      <td>1903505.0</td>\n",
       "    </tr>\n",
       "    <tr>\n",
       "      <th>Primary_applicant_age_in_years</th>\n",
       "      <td>1000.0</td>\n",
       "      <td>35.546</td>\n",
       "      <td>19.0</td>\n",
       "      <td>27.0</td>\n",
       "      <td>33.0</td>\n",
       "      <td>42.00</td>\n",
       "      <td>75.0</td>\n",
       "    </tr>\n",
       "    <tr>\n",
       "      <th>Number_of_dependents</th>\n",
       "      <td>1000.0</td>\n",
       "      <td>1.155</td>\n",
       "      <td>1.0</td>\n",
       "      <td>1.0</td>\n",
       "      <td>1.0</td>\n",
       "      <td>1.00</td>\n",
       "      <td>2.0</td>\n",
       "    </tr>\n",
       "    <tr>\n",
       "      <th>Years_at_current_residence</th>\n",
       "      <td>1000.0</td>\n",
       "      <td>2.845</td>\n",
       "      <td>1.0</td>\n",
       "      <td>2.0</td>\n",
       "      <td>3.0</td>\n",
       "      <td>4.00</td>\n",
       "      <td>4.0</td>\n",
       "    </tr>\n",
       "    <tr>\n",
       "      <th>Foreign_worker</th>\n",
       "      <td>1000.0</td>\n",
       "      <td>0.963</td>\n",
       "      <td>0.0</td>\n",
       "      <td>1.0</td>\n",
       "      <td>1.0</td>\n",
       "      <td>1.00</td>\n",
       "      <td>1.0</td>\n",
       "    </tr>\n",
       "    <tr>\n",
       "      <th>applicant_id_y</th>\n",
       "      <td>1000.0</td>\n",
       "      <td>1514763.121</td>\n",
       "      <td>1105364.0</td>\n",
       "      <td>1321398.0</td>\n",
       "      <td>1529114.5</td>\n",
       "      <td>1707751.75</td>\n",
       "      <td>1903505.0</td>\n",
       "    </tr>\n",
       "    <tr>\n",
       "      <th>Months_loan_taken_for</th>\n",
       "      <td>1000.0</td>\n",
       "      <td>20.903</td>\n",
       "      <td>4.0</td>\n",
       "      <td>12.0</td>\n",
       "      <td>18.0</td>\n",
       "      <td>24.00</td>\n",
       "      <td>72.0</td>\n",
       "    </tr>\n",
       "    <tr>\n",
       "      <th>Principal_loan_amount</th>\n",
       "      <td>1000.0</td>\n",
       "      <td>3271258.000</td>\n",
       "      <td>250000.0</td>\n",
       "      <td>1365500.0</td>\n",
       "      <td>2319500.0</td>\n",
       "      <td>3972250.00</td>\n",
       "      <td>18424000.0</td>\n",
       "    </tr>\n",
       "    <tr>\n",
       "      <th>EMI_rate_in_percentage_of_disposable_income</th>\n",
       "      <td>1000.0</td>\n",
       "      <td>2.973</td>\n",
       "      <td>1.0</td>\n",
       "      <td>2.0</td>\n",
       "      <td>3.0</td>\n",
       "      <td>4.00</td>\n",
       "      <td>4.0</td>\n",
       "    </tr>\n",
       "    <tr>\n",
       "      <th>Has_coapplicant</th>\n",
       "      <td>1000.0</td>\n",
       "      <td>0.041</td>\n",
       "      <td>0.0</td>\n",
       "      <td>0.0</td>\n",
       "      <td>0.0</td>\n",
       "      <td>0.00</td>\n",
       "      <td>1.0</td>\n",
       "    </tr>\n",
       "    <tr>\n",
       "      <th>Has_guarantor</th>\n",
       "      <td>1000.0</td>\n",
       "      <td>0.052</td>\n",
       "      <td>0.0</td>\n",
       "      <td>0.0</td>\n",
       "      <td>0.0</td>\n",
       "      <td>0.00</td>\n",
       "      <td>1.0</td>\n",
       "    </tr>\n",
       "    <tr>\n",
       "      <th>Number_of_existing_loans_at_this_bank</th>\n",
       "      <td>1000.0</td>\n",
       "      <td>1.407</td>\n",
       "      <td>1.0</td>\n",
       "      <td>1.0</td>\n",
       "      <td>1.0</td>\n",
       "      <td>2.00</td>\n",
       "      <td>4.0</td>\n",
       "    </tr>\n",
       "    <tr>\n",
       "      <th>high_risk_applicant</th>\n",
       "      <td>1000.0</td>\n",
       "      <td>0.300</td>\n",
       "      <td>0.0</td>\n",
       "      <td>0.0</td>\n",
       "      <td>0.0</td>\n",
       "      <td>1.00</td>\n",
       "      <td>1.0</td>\n",
       "    </tr>\n",
       "  </tbody>\n",
       "</table>\n",
       "</div>"
      ],
      "text/plain": [
       "                                              count         mean        min  \\\n",
       "key_0                                        1000.0  1514763.121  1105364.0   \n",
       "applicant_id_x                               1000.0  1514763.121  1105364.0   \n",
       "Primary_applicant_age_in_years               1000.0       35.546       19.0   \n",
       "Number_of_dependents                         1000.0        1.155        1.0   \n",
       "Years_at_current_residence                   1000.0        2.845        1.0   \n",
       "Foreign_worker                               1000.0        0.963        0.0   \n",
       "applicant_id_y                               1000.0  1514763.121  1105364.0   \n",
       "Months_loan_taken_for                        1000.0       20.903        4.0   \n",
       "Principal_loan_amount                        1000.0  3271258.000   250000.0   \n",
       "EMI_rate_in_percentage_of_disposable_income  1000.0        2.973        1.0   \n",
       "Has_coapplicant                              1000.0        0.041        0.0   \n",
       "Has_guarantor                                1000.0        0.052        0.0   \n",
       "Number_of_existing_loans_at_this_bank        1000.0        1.407        1.0   \n",
       "high_risk_applicant                          1000.0        0.300        0.0   \n",
       "\n",
       "                                                   25%        50%         75%  \\\n",
       "key_0                                        1321398.0  1529114.5  1707751.75   \n",
       "applicant_id_x                               1321398.0  1529114.5  1707751.75   \n",
       "Primary_applicant_age_in_years                    27.0       33.0       42.00   \n",
       "Number_of_dependents                               1.0        1.0        1.00   \n",
       "Years_at_current_residence                         2.0        3.0        4.00   \n",
       "Foreign_worker                                     1.0        1.0        1.00   \n",
       "applicant_id_y                               1321398.0  1529114.5  1707751.75   \n",
       "Months_loan_taken_for                             12.0       18.0       24.00   \n",
       "Principal_loan_amount                        1365500.0  2319500.0  3972250.00   \n",
       "EMI_rate_in_percentage_of_disposable_income        2.0        3.0        4.00   \n",
       "Has_coapplicant                                    0.0        0.0        0.00   \n",
       "Has_guarantor                                      0.0        0.0        0.00   \n",
       "Number_of_existing_loans_at_this_bank              1.0        1.0        2.00   \n",
       "high_risk_applicant                                0.0        0.0        1.00   \n",
       "\n",
       "                                                    max  \n",
       "key_0                                         1903505.0  \n",
       "applicant_id_x                                1903505.0  \n",
       "Primary_applicant_age_in_years                     75.0  \n",
       "Number_of_dependents                                2.0  \n",
       "Years_at_current_residence                          4.0  \n",
       "Foreign_worker                                      1.0  \n",
       "applicant_id_y                                1903505.0  \n",
       "Months_loan_taken_for                              72.0  \n",
       "Principal_loan_amount                        18424000.0  \n",
       "EMI_rate_in_percentage_of_disposable_income         4.0  \n",
       "Has_coapplicant                                     1.0  \n",
       "Has_guarantor                                       1.0  \n",
       "Number_of_existing_loans_at_this_bank               4.0  \n",
       "high_risk_applicant                                 1.0  "
      ]
     },
     "execution_count": 119,
     "metadata": {},
     "output_type": "execute_result"
    }
   ],
   "source": [
    "df.describe().drop('std').T"
   ]
  },
  {
   "cell_type": "code",
   "execution_count": 120,
   "id": "fcd61518",
   "metadata": {},
   "outputs": [
    {
     "data": {
      "text/plain": [
       "key_0                                                        0.0\n",
       "applicant_id_x                                               0.0\n",
       "Primary_applicant_age_in_years                               0.0\n",
       "Gender                                                       0.0\n",
       "Marital_status                                               0.0\n",
       "Number_of_dependents                                         0.0\n",
       "Housing                                                      0.0\n",
       "Years_at_current_residence                                   0.0\n",
       "Employment_status                                            0.0\n",
       "Has_been_employed_for_at_least                               6.2\n",
       "Has_been_employed_for_at_most                               25.3\n",
       "Telephone                                                   59.6\n",
       "Foreign_worker                                               0.0\n",
       "Savings_account_balance                                     18.3\n",
       "Balance_in_existing_bank_account_(lower_limit_of_bucket)    66.8\n",
       "Balance_in_existing_bank_account_(upper_limit_of_bucket)    45.7\n",
       "loan_application_id                                          0.0\n",
       "applicant_id_y                                               0.0\n",
       "Months_loan_taken_for                                        0.0\n",
       "Purpose                                                      1.2\n",
       "Principal_loan_amount                                        0.0\n",
       "EMI_rate_in_percentage_of_disposable_income                  0.0\n",
       "Property                                                    15.4\n",
       "Has_coapplicant                                              0.0\n",
       "Has_guarantor                                                0.0\n",
       "Other_EMI_plans                                             81.4\n",
       "Number_of_existing_loans_at_this_bank                        0.0\n",
       "Loan_history                                                 0.0\n",
       "high_risk_applicant                                          0.0\n",
       "dtype: float64"
      ]
     },
     "execution_count": 120,
     "metadata": {},
     "output_type": "execute_result"
    }
   ],
   "source": [
    "#Checking Null Values\n",
    "\n",
    "df.isna().mean()*100"
   ]
  },
  {
   "cell_type": "code",
   "execution_count": 121,
   "id": "df60e03b",
   "metadata": {},
   "outputs": [
    {
     "data": {
      "text/plain": [
       "high_risk_applicant                            1.000000\n",
       "Months_loan_taken_for                          0.214927\n",
       "Principal_loan_amount                          0.154739\n",
       "Foreign_worker                                 0.082079\n",
       "EMI_rate_in_percentage_of_disposable_income    0.072404\n",
       "Has_coapplicant                                0.062728\n",
       "Years_at_current_residence                     0.002967\n",
       "Number_of_dependents                          -0.003015\n",
       "key_0                                         -0.029125\n",
       "applicant_id_x                                -0.029125\n",
       "applicant_id_y                                -0.029125\n",
       "Number_of_existing_loans_at_this_bank         -0.045732\n",
       "Has_guarantor                                 -0.055039\n",
       "Primary_applicant_age_in_years                -0.091127\n",
       "Name: high_risk_applicant, dtype: float64"
      ]
     },
     "execution_count": 121,
     "metadata": {},
     "output_type": "execute_result"
    }
   ],
   "source": [
    "#Finding correlation with respect to high_risk_applicant\n",
    "\n",
    "df.corr()['high_risk_applicant'].sort_values(ascending=False)"
   ]
  },
  {
   "cell_type": "code",
   "execution_count": 187,
   "id": "ab3beee9",
   "metadata": {},
   "outputs": [
    {
     "name": "stderr",
     "output_type": "stream",
     "text": [
      "C:\\Users\\RAJA\\anaconda3\\lib\\site-packages\\seaborn\\_decorators.py:36: FutureWarning: Pass the following variables as keyword args: x, y. From version 0.12, the only valid positional argument will be `data`, and passing other arguments without an explicit keyword will result in an error or misinterpretation.\n",
      "  warnings.warn(\n"
     ]
    },
    {
     "data": {
      "text/plain": [
       "<AxesSubplot:xlabel='applicant_id_y', ylabel='Principal_loan_amount'>"
      ]
     },
     "execution_count": 187,
     "metadata": {},
     "output_type": "execute_result"
    },
    {
     "data": {
      "image/png": "[encoded data removed]",
      "text/plain": [
       "<Figure size 720x360 with 1 Axes>"
      ]
     },
     "metadata": {
      "needs_background": "light"
     },
     "output_type": "display_data"
    }
   ],
   "source": [
    "#Distribution of High and Low risk applicants.\n",
    "\n",
    "plt.figure(figsize=(10,5))\n",
    "sns.scatterplot(df.applicant_id_y,df.Principal_loan_amount,hue=df.high_risk_applicant)"
   ]
  },
  {
   "cell_type": "code",
   "execution_count": 188,
   "id": "815d5f57",
   "metadata": {},
   "outputs": [
    {
     "data": {
      "text/plain": [
       "<AxesSubplot:ylabel='high_risk_applicant'>"
      ]
     },
     "execution_count": 188,
     "metadata": {},
     "output_type": "execute_result"
    },
    {
     "data": {
      "image/png": "[encoded data removed]",
      "text/plain": [
       "<Figure size 432x288 with 1 Axes>"
      ]
     },
     "metadata": {},
     "output_type": "display_data"
    }
   ],
   "source": [
    "#Ratio of High and Low risk Applicants.\n",
    "\n",
    "df.high_risk_applicant.value_counts().plot(kind='pie',autopct='%0.2f')"
   ]
  },
  {
   "cell_type": "markdown",
   "id": "32baf76c",
   "metadata": {},
   "source": [
    "# There are 70% Low risk applicants and 30% High risk applicants. "
   ]
  },
  {
   "cell_type": "code",
   "execution_count": 123,
   "id": "877f8215",
   "metadata": {},
   "outputs": [],
   "source": [
    "a=df.loc[df.high_risk_applicant==1]\n",
    "b=df.loc[df.high_risk_applicant==0]"
   ]
  },
  {
   "cell_type": "code",
   "execution_count": 182,
   "id": "ef1da681",
   "metadata": {},
   "outputs": [
    {
     "name": "stderr",
     "output_type": "stream",
     "text": [
      "C:\\Users\\RAJA\\anaconda3\\lib\\site-packages\\seaborn\\_decorators.py:36: FutureWarning: Pass the following variables as keyword args: x, y. From version 0.12, the only valid positional argument will be `data`, and passing other arguments without an explicit keyword will result in an error or misinterpretation.\n",
      "  warnings.warn(\n"
     ]
    },
    {
     "data": {
      "text/plain": [
       "<AxesSubplot:xlabel='Marital_status', ylabel='Total'>"
      ]
     },
     "execution_count": 182,
     "metadata": {},
     "output_type": "execute_result"
    },
    {
     "data": {
      "image/png": "[encoded data removed]",
      "text/plain": [
       "<Figure size 1000x400 with 1 Axes>"
      ]
     },
     "metadata": {
      "needs_background": "light"
     },
     "output_type": "display_data"
    }
   ],
   "source": [
    "plt.figure(figsize=(10,4),dpi=100)\n",
    "a=df.loc[df.high_risk_applicant==1]\n",
    "total=a.groupby(['Marital_status'])['high_risk_applicant'].agg(['count']).reset_index().sort_values('count',ascending=False)\n",
    "total.rename({'count':'Total'},axis=1,inplace=True)\n",
    "sns.barplot(total.Marital_status,total.Total)"
   ]
  },
  {
   "cell_type": "markdown",
   "id": "93c90628",
   "metadata": {},
   "source": [
    "# Single person are more likely to fall under the category of High risk applicant."
   ]
  },
  {
   "cell_type": "code",
   "execution_count": 178,
   "id": "bfd569e0",
   "metadata": {},
   "outputs": [
    {
     "name": "stderr",
     "output_type": "stream",
     "text": [
      "C:\\Users\\RAJA\\anaconda3\\lib\\site-packages\\seaborn\\_decorators.py:36: FutureWarning: Pass the following variables as keyword args: x, y. From version 0.12, the only valid positional argument will be `data`, and passing other arguments without an explicit keyword will result in an error or misinterpretation.\n",
      "  warnings.warn(\n"
     ]
    },
    {
     "data": {
      "text/plain": [
       "<AxesSubplot:xlabel='Months_loan_taken_for', ylabel='Total'>"
      ]
     },
     "execution_count": 178,
     "metadata": {},
     "output_type": "execute_result"
    },
    {
     "data": {
      "image/png": "[encoded data removed]",
      "text/plain": [
       "<Figure size 1000x400 with 1 Axes>"
      ]
     },
     "metadata": {
      "needs_background": "light"
     },
     "output_type": "display_data"
    }
   ],
   "source": [
    "plt.figure(figsize=(10,4),dpi=100)\n",
    "a=df.loc[df.high_risk_applicant==1]\n",
    "total=a.groupby(['Months_loan_taken_for'])['high_risk_applicant'].agg(['count']).reset_index().sort_values('count',ascending=False)\n",
    "total.rename({'count':'Total'},axis=1,inplace=True)\n",
    "sns.barplot(total.Months_loan_taken_for,total.Total)"
   ]
  },
  {
   "cell_type": "markdown",
   "id": "770dd5d8",
   "metadata": {},
   "source": [
    "# People who takes lone for 2 years are most likely to fall under the category of Highly risk applicant. "
   ]
  },
  {
   "cell_type": "code",
   "execution_count": 181,
   "id": "c37cf73e",
   "metadata": {},
   "outputs": [
    {
     "name": "stderr",
     "output_type": "stream",
     "text": [
      "C:\\Users\\RAJA\\anaconda3\\lib\\site-packages\\seaborn\\_decorators.py:36: FutureWarning: Pass the following variables as keyword args: x, y. From version 0.12, the only valid positional argument will be `data`, and passing other arguments without an explicit keyword will result in an error or misinterpretation.\n",
      "  warnings.warn(\n"
     ]
    },
    {
     "data": {
      "text/plain": [
       "<AxesSubplot:xlabel='Primary_applicant_age_in_years', ylabel='Total'>"
      ]
     },
     "execution_count": 181,
     "metadata": {},
     "output_type": "execute_result"
    },
    {
     "data": {
      "image/png": "[encoded data removed]",
      "text/plain": [
       "<Figure size 1600x600 with 1 Axes>"
      ]
     },
     "metadata": {
      "needs_background": "light"
     },
     "output_type": "display_data"
    }
   ],
   "source": [
    "plt.figure(figsize=(16,6),dpi=100)\n",
    "a=df.loc[df.high_risk_applicant==1]\n",
    "total=a.groupby(['Primary_applicant_age_in_years'])['high_risk_applicant'].agg(['count']).reset_index().sort_values('count',ascending=False)\n",
    "total.rename({'count':'Total'},axis=1,inplace=True)\n",
    "sns.barplot(total.Primary_applicant_age_in_years,total.Total)"
   ]
  },
  {
   "cell_type": "markdown",
   "id": "42d6d099",
   "metadata": {},
   "source": [
    "# Mostly younger people who takes loan (generally <35 yrs old) are likely to fall under the category of Highly risk applicant."
   ]
  },
  {
   "cell_type": "code",
   "execution_count": 153,
   "id": "060fcfa1",
   "metadata": {},
   "outputs": [
    {
     "data": {
      "text/plain": [
       "count    1.000000e+03\n",
       "mean     3.271258e+06\n",
       "std      2.822737e+06\n",
       "min      2.500000e+05\n",
       "25%      1.365500e+06\n",
       "50%      2.319500e+06\n",
       "75%      3.972250e+06\n",
       "max      1.842400e+07\n",
       "Name: Principal_loan_amount, dtype: float64"
      ]
     },
     "execution_count": 153,
     "metadata": {},
     "output_type": "execute_result"
    }
   ],
   "source": [
    "df.Principal_loan_amount.describe().T"
   ]
  },
  {
   "cell_type": "code",
   "execution_count": 196,
   "id": "9204ca37",
   "metadata": {},
   "outputs": [
    {
     "name": "stderr",
     "output_type": "stream",
     "text": [
      "C:\\Users\\RAJA\\anaconda3\\lib\\site-packages\\seaborn\\_decorators.py:36: FutureWarning: Pass the following variables as keyword args: x, y. From version 0.12, the only valid positional argument will be `data`, and passing other arguments without an explicit keyword will result in an error or misinterpretation.\n",
      "  warnings.warn(\n"
     ]
    },
    {
     "data": {
      "text/plain": [
       "<AxesSubplot:xlabel='Number_of_existing_loans_at_this_bank', ylabel='Total'>"
      ]
     },
     "execution_count": 196,
     "metadata": {},
     "output_type": "execute_result"
    },
    {
     "data": {
      "image/png": "[encoded data removed]",
      "text/plain": [
       "<Figure size 600x500 with 1 Axes>"
      ]
     },
     "metadata": {
      "needs_background": "light"
     },
     "output_type": "display_data"
    }
   ],
   "source": [
    "plt.figure(figsize=(6,5),dpi=100)\n",
    "a=df.loc[df.high_risk_applicant==1]\n",
    "total=a.groupby(['Number_of_existing_loans_at_this_bank'])['high_risk_applicant'].agg(['count']).reset_index().sort_values('count',ascending=False)\n",
    "total.rename({'count':'Total'},axis=1,inplace=True)\n",
    "sns.barplot(total.Number_of_existing_loans_at_this_bank,total.Total)"
   ]
  },
  {
   "cell_type": "markdown",
   "id": "7e65b39f",
   "metadata": {},
   "source": [
    "# Person who have atleast one existing loan in the bank are most likely to become a highly risk applicant."
   ]
  },
  {
   "cell_type": "code",
   "execution_count": 197,
   "id": "4651634e",
   "metadata": {},
   "outputs": [
    {
     "data": {
      "text/plain": [
       "high_risk_applicant                            1.000000\n",
       "Months_loan_taken_for                          0.214927\n",
       "Principal_loan_amount                          0.154739\n",
       "Foreign_worker                                 0.082079\n",
       "EMI_rate_in_percentage_of_disposable_income    0.072404\n",
       "Has_coapplicant                                0.062728\n",
       "Years_at_current_residence                     0.002967\n",
       "Number_of_dependents                          -0.003015\n",
       "key_0                                         -0.029125\n",
       "applicant_id_x                                -0.029125\n",
       "applicant_id_y                                -0.029125\n",
       "Number_of_existing_loans_at_this_bank         -0.045732\n",
       "Has_guarantor                                 -0.055039\n",
       "Primary_applicant_age_in_years                -0.091127\n",
       "Name: high_risk_applicant, dtype: float64"
      ]
     },
     "execution_count": 197,
     "metadata": {},
     "output_type": "execute_result"
    }
   ],
   "source": [
    "df.corr()['high_risk_applicant'].sort_values(ascending=False)"
   ]
  },
  {
   "cell_type": "code",
   "execution_count": 18,
   "id": "e45d009b",
   "metadata": {},
   "outputs": [],
   "source": [
    "#As some columns shows ~0 correlation with respect to the high_risk_applicant column so we need to drop it.\n",
    "\n",
    "a=df.loc[df.high_risk_applicant==1]\n",
    "age=a.groupby(['Primary_applicant_age_in_years'])['high_risk_applicant'].agg(['sum']).reset_index().sort_values('sum',ascending=False)"
   ]
  },
  {
   "cell_type": "code",
   "execution_count": null,
   "id": "e3fd55d1",
   "metadata": {},
   "outputs": [],
   "source": []
  },
  {
   "cell_type": "code",
   "execution_count": 19,
   "id": "6e2366f9",
   "metadata": {},
   "outputs": [],
   "source": [
    "#Creating a columns of two different age groups 'Younger Applicant' whose age is less then 35 yrs and 'Older Applicant' whose age is more then 35 yrs.\n",
    "\n",
    "age['Age_Group']=np.where(age.Primary_applicant_age_in_years<35,'Younger Applicants','Older Applicants')"
   ]
  },
  {
   "cell_type": "code",
   "execution_count": 20,
   "id": "60be7a7f",
   "metadata": {},
   "outputs": [
    {
     "data": {
      "text/plain": [
       "Older Applicants      31\n",
       "Younger Applicants    16\n",
       "Name: Age_Group, dtype: int64"
      ]
     },
     "execution_count": 20,
     "metadata": {},
     "output_type": "execute_result"
    }
   ],
   "source": [
    "age.Age_Group.value_counts()"
   ]
  },
  {
   "cell_type": "code",
   "execution_count": 27,
   "id": "80f024ee",
   "metadata": {},
   "outputs": [
    {
     "data": {
      "text/plain": [
       "([<matplotlib.patches.Wedge at 0x25b46ff43d0>,\n",
       "  <matplotlib.patches.Wedge at 0x25b46ff4760>],\n",
       " [Text(0.46835717599151966, 0.995309778760989, 'Older Applicants'),\n",
       "  Text(-0.4683571759915193, -0.9953097787609891, 'Younger Applicants')],\n",
       " [Text(0.25546755054082887, 0.5428962429605394, '36.00'),\n",
       "  Text(-0.2554675505408287, -0.5428962429605395, '64.00')])"
      ]
     },
     "execution_count": 27,
     "metadata": {},
     "output_type": "execute_result"
    },
    {
     "data": {
      "image/png": "[encoded data removed]",
      "text/plain": [
       "<Figure size 432x288 with 1 Axes>"
      ]
     },
     "metadata": {},
     "output_type": "display_data"
    }
   ],
   "source": [
    "age_group=age.groupby(['Age_Group'])['sum'].agg(['sum']).reset_index()\n",
    "age_group.rename({'sum':'Total'},axis=1,inplace=True)\n",
    "plt.pie(age_group.Total,labels=age_group.Age_Group,autopct='%0.2f')"
   ]
  },
  {
   "cell_type": "markdown",
   "id": "d57aab4c",
   "metadata": {},
   "source": [
    "# Here we can denote that the Younger Applicants (<35 yrs) are more likely to fall under the category of high risk applicant compared to the Older Applicants."
   ]
  },
  {
   "cell_type": "code",
   "execution_count": null,
   "id": "9afb01aa",
   "metadata": {},
   "outputs": [],
   "source": []
  },
  {
   "cell_type": "code",
   "execution_count": 28,
   "id": "aa3aced4",
   "metadata": {},
   "outputs": [
    {
     "data": {
      "text/plain": [
       "0"
      ]
     },
     "execution_count": 28,
     "metadata": {},
     "output_type": "execute_result"
    }
   ],
   "source": [
    "df.duplicated().sum()"
   ]
  },
  {
   "cell_type": "code",
   "execution_count": 32,
   "id": "67a126ec",
   "metadata": {},
   "outputs": [
    {
     "data": {
      "text/plain": [
       "key_0                                                        0.0\n",
       "applicant_id_x                                               0.0\n",
       "Primary_applicant_age_in_years                               0.0\n",
       "Gender                                                       0.0\n",
       "Marital_status                                               0.0\n",
       "Number_of_dependents                                         0.0\n",
       "Housing                                                      0.0\n",
       "Years_at_current_residence                                   0.0\n",
       "Employment_status                                            0.0\n",
       "Has_been_employed_for_at_least                               6.2\n",
       "Has_been_employed_for_at_most                               25.3\n",
       "Telephone                                                   59.6\n",
       "Foreign_worker                                               0.0\n",
       "Savings_account_balance                                     18.3\n",
       "Balance_in_existing_bank_account_(lower_limit_of_bucket)    66.8\n",
       "Balance_in_existing_bank_account_(upper_limit_of_bucket)    45.7\n",
       "loan_application_id                                          0.0\n",
       "applicant_id_y                                               0.0\n",
       "Months_loan_taken_for                                        0.0\n",
       "Purpose                                                      1.2\n",
       "Principal_loan_amount                                        0.0\n",
       "EMI_rate_in_percentage_of_disposable_income                  0.0\n",
       "Property                                                    15.4\n",
       "Has_coapplicant                                              0.0\n",
       "Has_guarantor                                                0.0\n",
       "Other_EMI_plans                                             81.4\n",
       "Number_of_existing_loans_at_this_bank                        0.0\n",
       "Loan_history                                                 0.0\n",
       "high_risk_applicant                                          0.0\n",
       "dtype: float64"
      ]
     },
     "execution_count": 32,
     "metadata": {},
     "output_type": "execute_result"
    }
   ],
   "source": [
    "df.isna().mean()*100"
   ]
  },
  {
   "cell_type": "code",
   "execution_count": 33,
   "id": "81ed5c23",
   "metadata": {},
   "outputs": [],
   "source": [
    "#Dropping columns which consist of more then 40% of null values\n",
    "\n",
    "df.drop([\"Balance_in_existing_bank_account_(lower_limit_of_bucket)\",\"Balance_in_existing_bank_account_(upper_limit_of_bucket)\",\"Other_EMI_plans\",\"Telephone\"],axis=1,inplace=True)"
   ]
  },
  {
   "cell_type": "code",
   "execution_count": 34,
   "id": "dfd9321a",
   "metadata": {},
   "outputs": [
    {
     "data": {
      "text/plain": [
       "key_0                                           0.0\n",
       "applicant_id_x                                  0.0\n",
       "Primary_applicant_age_in_years                  0.0\n",
       "Gender                                          0.0\n",
       "Marital_status                                  0.0\n",
       "Number_of_dependents                            0.0\n",
       "Housing                                         0.0\n",
       "Years_at_current_residence                      0.0\n",
       "Employment_status                               0.0\n",
       "Has_been_employed_for_at_least                  6.2\n",
       "Has_been_employed_for_at_most                  25.3\n",
       "Foreign_worker                                  0.0\n",
       "Savings_account_balance                        18.3\n",
       "loan_application_id                             0.0\n",
       "applicant_id_y                                  0.0\n",
       "Months_loan_taken_for                           0.0\n",
       "Purpose                                         1.2\n",
       "Principal_loan_amount                           0.0\n",
       "EMI_rate_in_percentage_of_disposable_income     0.0\n",
       "Property                                       15.4\n",
       "Has_coapplicant                                 0.0\n",
       "Has_guarantor                                   0.0\n",
       "Number_of_existing_loans_at_this_bank           0.0\n",
       "Loan_history                                    0.0\n",
       "high_risk_applicant                             0.0\n",
       "dtype: float64"
      ]
     },
     "execution_count": 34,
     "metadata": {},
     "output_type": "execute_result"
    }
   ],
   "source": [
    "df.isna().mean()*100"
   ]
  },
  {
   "cell_type": "code",
   "execution_count": 35,
   "id": "ff1ae7bc",
   "metadata": {},
   "outputs": [
    {
     "data": {
      "text/plain": [
       "<AxesSubplot:ylabel='Gender'>"
      ]
     },
     "execution_count": 35,
     "metadata": {},
     "output_type": "execute_result"
    },
    {
     "data": {
      "image/png": "[encoded data removed]",
      "text/plain": [
       "<Figure size 432x288 with 1 Axes>"
      ]
     },
     "metadata": {},
     "output_type": "display_data"
    }
   ],
   "source": [
    "df.Gender.value_counts().plot(kind='pie',autopct='%.2f')"
   ]
  },
  {
   "cell_type": "markdown",
   "id": "9f9d5957",
   "metadata": {},
   "source": [
    "# More Males apply for loan than Females"
   ]
  },
  {
   "cell_type": "code",
   "execution_count": 36,
   "id": "527ff8d7",
   "metadata": {},
   "outputs": [
    {
     "data": {
      "text/plain": [
       "<AxesSubplot:ylabel='Has_been_employed_for_at_most'>"
      ]
     },
     "execution_count": 36,
     "metadata": {},
     "output_type": "execute_result"
    },
    {
     "data": {
      "image/png": "[encoded data removed]",
      "text/plain": [
       "<Figure size 432x288 with 1 Axes>"
      ]
     },
     "metadata": {},
     "output_type": "display_data"
    }
   ],
   "source": [
    "df.Has_been_employed_for_at_most.value_counts().plot(kind='pie',autopct='%.2f')"
   ]
  },
  {
   "cell_type": "markdown",
   "id": "66bf893d",
   "metadata": {},
   "source": [
    "# People with maximum 4 years of employement gets loan mostly."
   ]
  },
  {
   "cell_type": "code",
   "execution_count": 37,
   "id": "bbfcf45b",
   "metadata": {},
   "outputs": [
    {
     "data": {
      "text/plain": [
       "<AxesSubplot:ylabel='Has_been_employed_for_at_least'>"
      ]
     },
     "execution_count": 37,
     "metadata": {},
     "output_type": "execute_result"
    },
    {
     "data": {
      "image/png": "[encoded data removed]",
      "text/plain": [
       "<Figure size 432x288 with 1 Axes>"
      ]
     },
     "metadata": {},
     "output_type": "display_data"
    }
   ],
   "source": [
    "df.Has_been_employed_for_at_least.value_counts().plot(kind='pie',autopct='%.2f')"
   ]
  },
  {
   "cell_type": "markdown",
   "id": "797ab3bc",
   "metadata": {},
   "source": [
    "# People with atleast 1 years of employement gets loan mostly"
   ]
  },
  {
   "cell_type": "code",
   "execution_count": 38,
   "id": "96febe04",
   "metadata": {},
   "outputs": [
    {
     "data": {
      "text/plain": [
       "<AxesSubplot:ylabel='Marital_status'>"
      ]
     },
     "execution_count": 38,
     "metadata": {},
     "output_type": "execute_result"
    },
    {
     "data": {
      "image/png": "[encoded data removed]",
      "text/plain": [
       "<Figure size 432x288 with 1 Axes>"
      ]
     },
     "metadata": {},
     "output_type": "display_data"
    }
   ],
   "source": [
    "df.Marital_status.value_counts().plot(kind='pie',autopct='%.2f')"
   ]
  },
  {
   "cell_type": "markdown",
   "id": "ef817bfb",
   "metadata": {},
   "source": [
    "# Mostly Single people apply for loans compared to others"
   ]
  },
  {
   "cell_type": "code",
   "execution_count": 40,
   "id": "9dd7765e",
   "metadata": {},
   "outputs": [
    {
     "data": {
      "text/plain": [
       "<AxesSubplot:>"
      ]
     },
     "execution_count": 40,
     "metadata": {},
     "output_type": "execute_result"
    },
    {
     "data": {
      "image/png": "[encoded data removed]",
      "text/plain": [
       "<Figure size 432x288 with 1 Axes>"
      ]
     },
     "metadata": {
      "needs_background": "light"
     },
     "output_type": "display_data"
    }
   ],
   "source": [
    "df.Employment_status.value_counts().plot(kind='bar')"
   ]
  },
  {
   "cell_type": "markdown",
   "id": "31a3378e",
   "metadata": {},
   "source": [
    "# Banks mostly recommend Skilled and employed people for granting loans."
   ]
  },
  {
   "cell_type": "code",
   "execution_count": 42,
   "id": "b43f31b0",
   "metadata": {},
   "outputs": [
    {
     "data": {
      "text/plain": [
       "<AxesSubplot:>"
      ]
     },
     "execution_count": 42,
     "metadata": {},
     "output_type": "execute_result"
    },
    {
     "data": {
      "image/png": "[encoded data removed]",
      "text/plain": [
       "<Figure size 432x288 with 1 Axes>"
      ]
     },
     "metadata": {
      "needs_background": "light"
     },
     "output_type": "display_data"
    }
   ],
   "source": [
    "df.Purpose.value_counts().plot(kind='bar')"
   ]
  },
  {
   "cell_type": "markdown",
   "id": "b6a6fe0d",
   "metadata": {},
   "source": [
    "# Mostly people take loans to buy Electronic Equipments"
   ]
  },
  {
   "cell_type": "code",
   "execution_count": 43,
   "id": "2fdbc841",
   "metadata": {},
   "outputs": [
    {
     "data": {
      "text/plain": [
       "high_risk_applicant                            1.000000\n",
       "Months_loan_taken_for                          0.214927\n",
       "Principal_loan_amount                          0.154739\n",
       "Foreign_worker                                 0.082079\n",
       "EMI_rate_in_percentage_of_disposable_income    0.072404\n",
       "Has_coapplicant                                0.062728\n",
       "Years_at_current_residence                     0.002967\n",
       "Number_of_dependents                          -0.003015\n",
       "key_0                                         -0.029125\n",
       "applicant_id_x                                -0.029125\n",
       "applicant_id_y                                -0.029125\n",
       "Number_of_existing_loans_at_this_bank         -0.045732\n",
       "Has_guarantor                                 -0.055039\n",
       "Primary_applicant_age_in_years                -0.091127\n",
       "Name: high_risk_applicant, dtype: float64"
      ]
     },
     "execution_count": 43,
     "metadata": {},
     "output_type": "execute_result"
    }
   ],
   "source": [
    "df.corr()['high_risk_applicant'].sort_values(ascending=False)"
   ]
  },
  {
   "cell_type": "markdown",
   "id": "59b92d27",
   "metadata": {},
   "source": [
    "## We can note that high risk applicants are most positively correlated to the Months loan taken for, which means that most of the highly risk applicant takes more time repay loans. Also, We can see that the high risk applicants are most negatively correlated to the age of the applicant, which means the younger applicant are most likely to be a high risk applicant compared to the older applicants."
   ]
  },
  {
   "cell_type": "code",
   "execution_count": null,
   "id": "fb6daa56",
   "metadata": {},
   "outputs": [],
   "source": []
  },
  {
   "cell_type": "markdown",
   "id": "75bb0c19",
   "metadata": {},
   "source": [
    "# Using Machine Learning to find how accurate the given data is."
   ]
  },
  {
   "cell_type": "code",
   "execution_count": 45,
   "id": "d80e2ff2",
   "metadata": {},
   "outputs": [],
   "source": [
    "from sklearn.preprocessing import LabelEncoder"
   ]
  },
  {
   "cell_type": "code",
   "execution_count": 46,
   "id": "a99ec5c6",
   "metadata": {},
   "outputs": [],
   "source": [
    "l=LabelEncoder()"
   ]
  },
  {
   "cell_type": "code",
   "execution_count": 53,
   "id": "47821c7a",
   "metadata": {},
   "outputs": [
    {
     "name": "stdout",
     "output_type": "stream",
     "text": [
      "No. of numerical columns : 25\n",
      "No. of Categorical columns : 0\n"
     ]
    }
   ],
   "source": [
    "print('No. of numerical columns :', len(df.select_dtypes('number').columns))\n",
    "print('No. of Categorical columns :',len(df.select_dtypes('O').columns))"
   ]
  },
  {
   "cell_type": "markdown",
   "id": "0ce7ff70",
   "metadata": {},
   "source": [
    "## There are total 14 Numerical columns and 11 Categorical Columns in the data."
   ]
  },
  {
   "cell_type": "markdown",
   "id": "0d59e963",
   "metadata": {},
   "source": [
    "# Applying Data Preprocessing "
   ]
  },
  {
   "cell_type": "code",
   "execution_count": 55,
   "id": "68d432f3",
   "metadata": {},
   "outputs": [],
   "source": [
    "#Converting Categorical column to Numerical column using Label Encoder\n",
    "\n",
    "for i in df.columns:\n",
    "    if df[i].dtypes=='O':\n",
    "        df[i]=l.fit_transform(df[i])\n",
    "        "
   ]
  },
  {
   "cell_type": "code",
   "execution_count": 56,
   "id": "67872aec",
   "metadata": {},
   "outputs": [
    {
     "data": {
      "text/html": [
       "<div>\n",
       "<style scoped>\n",
       "    .dataframe tbody tr th:only-of-type {\n",
       "        vertical-align: middle;\n",
       "    }\n",
       "\n",
       "    .dataframe tbody tr th {\n",
       "        vertical-align: top;\n",
       "    }\n",
       "\n",
       "    .dataframe thead th {\n",
       "        text-align: right;\n",
       "    }\n",
       "</style>\n",
       "<table border=\"1\" class=\"dataframe\">\n",
       "  <thead>\n",
       "    <tr style=\"text-align: right;\">\n",
       "      <th></th>\n",
       "      <th>key_0</th>\n",
       "      <th>applicant_id_x</th>\n",
       "      <th>Primary_applicant_age_in_years</th>\n",
       "      <th>Gender</th>\n",
       "      <th>Marital_status</th>\n",
       "      <th>Number_of_dependents</th>\n",
       "      <th>Housing</th>\n",
       "      <th>Years_at_current_residence</th>\n",
       "      <th>Employment_status</th>\n",
       "      <th>Has_been_employed_for_at_least</th>\n",
       "      <th>...</th>\n",
       "      <th>Months_loan_taken_for</th>\n",
       "      <th>Purpose</th>\n",
       "      <th>Principal_loan_amount</th>\n",
       "      <th>EMI_rate_in_percentage_of_disposable_income</th>\n",
       "      <th>Property</th>\n",
       "      <th>Has_coapplicant</th>\n",
       "      <th>Has_guarantor</th>\n",
       "      <th>Number_of_existing_loans_at_this_bank</th>\n",
       "      <th>Loan_history</th>\n",
       "      <th>high_risk_applicant</th>\n",
       "    </tr>\n",
       "  </thead>\n",
       "  <tbody>\n",
       "    <tr>\n",
       "      <th>0</th>\n",
       "      <td>1469590</td>\n",
       "      <td>1469590</td>\n",
       "      <td>67</td>\n",
       "      <td>1</td>\n",
       "      <td>3</td>\n",
       "      <td>1</td>\n",
       "      <td>1</td>\n",
       "      <td>4</td>\n",
       "      <td>1</td>\n",
       "      <td>3</td>\n",
       "      <td>...</td>\n",
       "      <td>6</td>\n",
       "      <td>5</td>\n",
       "      <td>1169000</td>\n",
       "      <td>4</td>\n",
       "      <td>2</td>\n",
       "      <td>0</td>\n",
       "      <td>0</td>\n",
       "      <td>2</td>\n",
       "      <td>1</td>\n",
       "      <td>0</td>\n",
       "    </tr>\n",
       "    <tr>\n",
       "      <th>1</th>\n",
       "      <td>1203873</td>\n",
       "      <td>1203873</td>\n",
       "      <td>22</td>\n",
       "      <td>0</td>\n",
       "      <td>1</td>\n",
       "      <td>1</td>\n",
       "      <td>1</td>\n",
       "      <td>2</td>\n",
       "      <td>1</td>\n",
       "      <td>1</td>\n",
       "      <td>...</td>\n",
       "      <td>48</td>\n",
       "      <td>5</td>\n",
       "      <td>5951000</td>\n",
       "      <td>2</td>\n",
       "      <td>2</td>\n",
       "      <td>0</td>\n",
       "      <td>0</td>\n",
       "      <td>1</td>\n",
       "      <td>3</td>\n",
       "      <td>1</td>\n",
       "    </tr>\n",
       "    <tr>\n",
       "      <th>2</th>\n",
       "      <td>1432761</td>\n",
       "      <td>1432761</td>\n",
       "      <td>49</td>\n",
       "      <td>1</td>\n",
       "      <td>3</td>\n",
       "      <td>2</td>\n",
       "      <td>1</td>\n",
       "      <td>3</td>\n",
       "      <td>3</td>\n",
       "      <td>2</td>\n",
       "      <td>...</td>\n",
       "      <td>12</td>\n",
       "      <td>4</td>\n",
       "      <td>2096000</td>\n",
       "      <td>2</td>\n",
       "      <td>2</td>\n",
       "      <td>0</td>\n",
       "      <td>0</td>\n",
       "      <td>1</td>\n",
       "      <td>1</td>\n",
       "      <td>0</td>\n",
       "    </tr>\n",
       "    <tr>\n",
       "      <th>3</th>\n",
       "      <td>1207582</td>\n",
       "      <td>1207582</td>\n",
       "      <td>45</td>\n",
       "      <td>1</td>\n",
       "      <td>3</td>\n",
       "      <td>2</td>\n",
       "      <td>0</td>\n",
       "      <td>4</td>\n",
       "      <td>1</td>\n",
       "      <td>2</td>\n",
       "      <td>...</td>\n",
       "      <td>42</td>\n",
       "      <td>0</td>\n",
       "      <td>7882000</td>\n",
       "      <td>2</td>\n",
       "      <td>0</td>\n",
       "      <td>0</td>\n",
       "      <td>1</td>\n",
       "      <td>1</td>\n",
       "      <td>3</td>\n",
       "      <td>0</td>\n",
       "    </tr>\n",
       "    <tr>\n",
       "      <th>4</th>\n",
       "      <td>1674436</td>\n",
       "      <td>1674436</td>\n",
       "      <td>53</td>\n",
       "      <td>1</td>\n",
       "      <td>3</td>\n",
       "      <td>2</td>\n",
       "      <td>0</td>\n",
       "      <td>4</td>\n",
       "      <td>1</td>\n",
       "      <td>1</td>\n",
       "      <td>...</td>\n",
       "      <td>24</td>\n",
       "      <td>6</td>\n",
       "      <td>4870000</td>\n",
       "      <td>3</td>\n",
       "      <td>3</td>\n",
       "      <td>0</td>\n",
       "      <td>0</td>\n",
       "      <td>2</td>\n",
       "      <td>2</td>\n",
       "      <td>1</td>\n",
       "    </tr>\n",
       "    <tr>\n",
       "      <th>...</th>\n",
       "      <td>...</td>\n",
       "      <td>...</td>\n",
       "      <td>...</td>\n",
       "      <td>...</td>\n",
       "      <td>...</td>\n",
       "      <td>...</td>\n",
       "      <td>...</td>\n",
       "      <td>...</td>\n",
       "      <td>...</td>\n",
       "      <td>...</td>\n",
       "      <td>...</td>\n",
       "      <td>...</td>\n",
       "      <td>...</td>\n",
       "      <td>...</td>\n",
       "      <td>...</td>\n",
       "      <td>...</td>\n",
       "      <td>...</td>\n",
       "      <td>...</td>\n",
       "      <td>...</td>\n",
       "      <td>...</td>\n",
       "      <td>...</td>\n",
       "    </tr>\n",
       "    <tr>\n",
       "      <th>995</th>\n",
       "      <td>1880194</td>\n",
       "      <td>1880194</td>\n",
       "      <td>31</td>\n",
       "      <td>0</td>\n",
       "      <td>1</td>\n",
       "      <td>1</td>\n",
       "      <td>1</td>\n",
       "      <td>4</td>\n",
       "      <td>3</td>\n",
       "      <td>2</td>\n",
       "      <td>...</td>\n",
       "      <td>12</td>\n",
       "      <td>0</td>\n",
       "      <td>1736000</td>\n",
       "      <td>3</td>\n",
       "      <td>2</td>\n",
       "      <td>0</td>\n",
       "      <td>0</td>\n",
       "      <td>1</td>\n",
       "      <td>3</td>\n",
       "      <td>0</td>\n",
       "    </tr>\n",
       "    <tr>\n",
       "      <th>996</th>\n",
       "      <td>1114064</td>\n",
       "      <td>1114064</td>\n",
       "      <td>40</td>\n",
       "      <td>1</td>\n",
       "      <td>0</td>\n",
       "      <td>1</td>\n",
       "      <td>1</td>\n",
       "      <td>4</td>\n",
       "      <td>0</td>\n",
       "      <td>1</td>\n",
       "      <td>...</td>\n",
       "      <td>30</td>\n",
       "      <td>8</td>\n",
       "      <td>3857000</td>\n",
       "      <td>4</td>\n",
       "      <td>0</td>\n",
       "      <td>0</td>\n",
       "      <td>0</td>\n",
       "      <td>1</td>\n",
       "      <td>3</td>\n",
       "      <td>0</td>\n",
       "    </tr>\n",
       "    <tr>\n",
       "      <th>997</th>\n",
       "      <td>1758046</td>\n",
       "      <td>1758046</td>\n",
       "      <td>38</td>\n",
       "      <td>1</td>\n",
       "      <td>3</td>\n",
       "      <td>1</td>\n",
       "      <td>1</td>\n",
       "      <td>4</td>\n",
       "      <td>1</td>\n",
       "      <td>3</td>\n",
       "      <td>...</td>\n",
       "      <td>12</td>\n",
       "      <td>5</td>\n",
       "      <td>804000</td>\n",
       "      <td>4</td>\n",
       "      <td>1</td>\n",
       "      <td>0</td>\n",
       "      <td>0</td>\n",
       "      <td>1</td>\n",
       "      <td>3</td>\n",
       "      <td>0</td>\n",
       "    </tr>\n",
       "    <tr>\n",
       "      <th>998</th>\n",
       "      <td>1824545</td>\n",
       "      <td>1824545</td>\n",
       "      <td>23</td>\n",
       "      <td>1</td>\n",
       "      <td>3</td>\n",
       "      <td>1</td>\n",
       "      <td>0</td>\n",
       "      <td>4</td>\n",
       "      <td>1</td>\n",
       "      <td>1</td>\n",
       "      <td>...</td>\n",
       "      <td>45</td>\n",
       "      <td>5</td>\n",
       "      <td>1845000</td>\n",
       "      <td>4</td>\n",
       "      <td>3</td>\n",
       "      <td>0</td>\n",
       "      <td>0</td>\n",
       "      <td>1</td>\n",
       "      <td>3</td>\n",
       "      <td>1</td>\n",
       "    </tr>\n",
       "    <tr>\n",
       "      <th>999</th>\n",
       "      <td>1660770</td>\n",
       "      <td>1660770</td>\n",
       "      <td>27</td>\n",
       "      <td>1</td>\n",
       "      <td>3</td>\n",
       "      <td>1</td>\n",
       "      <td>1</td>\n",
       "      <td>4</td>\n",
       "      <td>1</td>\n",
       "      <td>4</td>\n",
       "      <td>...</td>\n",
       "      <td>45</td>\n",
       "      <td>8</td>\n",
       "      <td>4576000</td>\n",
       "      <td>3</td>\n",
       "      <td>1</td>\n",
       "      <td>0</td>\n",
       "      <td>0</td>\n",
       "      <td>1</td>\n",
       "      <td>1</td>\n",
       "      <td>0</td>\n",
       "    </tr>\n",
       "  </tbody>\n",
       "</table>\n",
       "<p>1000 rows × 25 columns</p>\n",
       "</div>"
      ],
      "text/plain": [
       "       key_0  applicant_id_x  Primary_applicant_age_in_years  Gender  \\\n",
       "0    1469590         1469590                              67       1   \n",
       "1    1203873         1203873                              22       0   \n",
       "2    1432761         1432761                              49       1   \n",
       "3    1207582         1207582                              45       1   \n",
       "4    1674436         1674436                              53       1   \n",
       "..       ...             ...                             ...     ...   \n",
       "995  1880194         1880194                              31       0   \n",
       "996  1114064         1114064                              40       1   \n",
       "997  1758046         1758046                              38       1   \n",
       "998  1824545         1824545                              23       1   \n",
       "999  1660770         1660770                              27       1   \n",
       "\n",
       "     Marital_status  Number_of_dependents  Housing  \\\n",
       "0                 3                     1        1   \n",
       "1                 1                     1        1   \n",
       "2                 3                     2        1   \n",
       "3                 3                     2        0   \n",
       "4                 3                     2        0   \n",
       "..              ...                   ...      ...   \n",
       "995               1                     1        1   \n",
       "996               0                     1        1   \n",
       "997               3                     1        1   \n",
       "998               3                     1        0   \n",
       "999               3                     1        1   \n",
       "\n",
       "     Years_at_current_residence  Employment_status  \\\n",
       "0                             4                  1   \n",
       "1                             2                  1   \n",
       "2                             3                  3   \n",
       "3                             4                  1   \n",
       "4                             4                  1   \n",
       "..                          ...                ...   \n",
       "995                           4                  3   \n",
       "996                           4                  0   \n",
       "997                           4                  1   \n",
       "998                           4                  1   \n",
       "999                           4                  1   \n",
       "\n",
       "     Has_been_employed_for_at_least  ...  Months_loan_taken_for  Purpose  \\\n",
       "0                                 3  ...                      6        5   \n",
       "1                                 1  ...                     48        5   \n",
       "2                                 2  ...                     12        4   \n",
       "3                                 2  ...                     42        0   \n",
       "4                                 1  ...                     24        6   \n",
       "..                              ...  ...                    ...      ...   \n",
       "995                               2  ...                     12        0   \n",
       "996                               1  ...                     30        8   \n",
       "997                               3  ...                     12        5   \n",
       "998                               1  ...                     45        5   \n",
       "999                               4  ...                     45        8   \n",
       "\n",
       "     Principal_loan_amount  EMI_rate_in_percentage_of_disposable_income  \\\n",
       "0                  1169000                                            4   \n",
       "1                  5951000                                            2   \n",
       "2                  2096000                                            2   \n",
       "3                  7882000                                            2   \n",
       "4                  4870000                                            3   \n",
       "..                     ...                                          ...   \n",
       "995                1736000                                            3   \n",
       "996                3857000                                            4   \n",
       "997                 804000                                            4   \n",
       "998                1845000                                            4   \n",
       "999                4576000                                            3   \n",
       "\n",
       "     Property  Has_coapplicant  Has_guarantor  \\\n",
       "0           2                0              0   \n",
       "1           2                0              0   \n",
       "2           2                0              0   \n",
       "3           0                0              1   \n",
       "4           3                0              0   \n",
       "..        ...              ...            ...   \n",
       "995         2                0              0   \n",
       "996         0                0              0   \n",
       "997         1                0              0   \n",
       "998         3                0              0   \n",
       "999         1                0              0   \n",
       "\n",
       "     Number_of_existing_loans_at_this_bank  Loan_history  high_risk_applicant  \n",
       "0                                        2             1                    0  \n",
       "1                                        1             3                    1  \n",
       "2                                        1             1                    0  \n",
       "3                                        1             3                    0  \n",
       "4                                        2             2                    1  \n",
       "..                                     ...           ...                  ...  \n",
       "995                                      1             3                    0  \n",
       "996                                      1             3                    0  \n",
       "997                                      1             3                    0  \n",
       "998                                      1             3                    1  \n",
       "999                                      1             1                    0  \n",
       "\n",
       "[1000 rows x 25 columns]"
      ]
     },
     "execution_count": 56,
     "metadata": {},
     "output_type": "execute_result"
    }
   ],
   "source": [
    "df"
   ]
  },
  {
   "cell_type": "code",
   "execution_count": null,
   "id": "e7c353ec",
   "metadata": {},
   "outputs": [],
   "source": []
  },
  {
   "cell_type": "code",
   "execution_count": 54,
   "id": "f2093d67",
   "metadata": {},
   "outputs": [
    {
     "data": {
      "text/plain": [
       "high_risk_applicant                            1.000000\n",
       "Months_loan_taken_for                          0.214927\n",
       "Principal_loan_amount                          0.154739\n",
       "Loan_history                                   0.097054\n",
       "Foreign_worker                                 0.082079\n",
       "EMI_rate_in_percentage_of_disposable_income    0.072404\n",
       "Has_coapplicant                                0.062728\n",
       "loan_application_id                            0.034606\n",
       "Property                                       0.034011\n",
       "Housing                                        0.019315\n",
       "Years_at_current_residence                     0.002967\n",
       "Number_of_dependents                          -0.003015\n",
       "applicant_id_y                                -0.029125\n",
       "key_0                                         -0.029125\n",
       "applicant_id_x                                -0.029125\n",
       "Employment_status                             -0.032756\n",
       "Purpose                                       -0.045222\n",
       "Number_of_existing_loans_at_this_bank         -0.045732\n",
       "Has_guarantor                                 -0.055039\n",
       "Gender                                        -0.075493\n",
       "Has_been_employed_for_at_least                -0.076891\n",
       "Primary_applicant_age_in_years                -0.091127\n",
       "Marital_status                                -0.095055\n",
       "Has_been_employed_for_at_most                 -0.116002\n",
       "Savings_account_balance                       -0.131185\n",
       "Name: high_risk_applicant, dtype: float64"
      ]
     },
     "execution_count": 54,
     "metadata": {},
     "output_type": "execute_result"
    }
   ],
   "source": [
    "#Finding the correlation of every columns with respect to the 'High risk applicant columns'\n",
    "\n",
    "df.corr()['high_risk_applicant'].sort_values(ascending=False)"
   ]
  },
  {
   "cell_type": "code",
   "execution_count": null,
   "id": "987c09ad",
   "metadata": {},
   "outputs": [],
   "source": []
  },
  {
   "cell_type": "code",
   "execution_count": 83,
   "id": "28661df4",
   "metadata": {},
   "outputs": [],
   "source": []
  },
  {
   "cell_type": "code",
   "execution_count": 57,
   "id": "3939803d",
   "metadata": {},
   "outputs": [],
   "source": [
    "#Droping columns which are least correalted to the 'high_risk_applicant' column.\n",
    "\n",
    "df.drop(['Years_at_current_residence','Number_of_dependents','applicant_id_y','key_0','applicant_id_x','loan_application_id'],axis=1,inplace=True)"
   ]
  },
  {
   "cell_type": "code",
   "execution_count": 58,
   "id": "f4aa7275",
   "metadata": {},
   "outputs": [
    {
     "data": {
      "text/plain": [
       "high_risk_applicant                            1.000000\n",
       "Months_loan_taken_for                          0.214927\n",
       "Principal_loan_amount                          0.154739\n",
       "Loan_history                                   0.097054\n",
       "Foreign_worker                                 0.082079\n",
       "EMI_rate_in_percentage_of_disposable_income    0.072404\n",
       "Has_coapplicant                                0.062728\n",
       "Property                                       0.034011\n",
       "Housing                                        0.019315\n",
       "Employment_status                             -0.032756\n",
       "Purpose                                       -0.045222\n",
       "Number_of_existing_loans_at_this_bank         -0.045732\n",
       "Has_guarantor                                 -0.055039\n",
       "Gender                                        -0.075493\n",
       "Has_been_employed_for_at_least                -0.076891\n",
       "Primary_applicant_age_in_years                -0.091127\n",
       "Marital_status                                -0.095055\n",
       "Has_been_employed_for_at_most                 -0.116002\n",
       "Savings_account_balance                       -0.131185\n",
       "Name: high_risk_applicant, dtype: float64"
      ]
     },
     "execution_count": 58,
     "metadata": {},
     "output_type": "execute_result"
    }
   ],
   "source": [
    "df.corr()['high_risk_applicant'].sort_values(ascending=False)"
   ]
  },
  {
   "cell_type": "code",
   "execution_count": 59,
   "id": "20068606",
   "metadata": {},
   "outputs": [
    {
     "data": {
      "text/plain": [
       "<seaborn.axisgrid.FacetGrid at 0x25b484e85e0>"
      ]
     },
     "execution_count": 59,
     "metadata": {},
     "output_type": "execute_result"
    },
    {
     "data": {
      "image/png": "[encoded data removed]",
      "text/plain": [
       "<Figure size 360x360 with 1 Axes>"
      ]
     },
     "metadata": {
      "needs_background": "light"
     },
     "output_type": "display_data"
    }
   ],
   "source": [
    "sns.displot(df.EMI_rate_in_percentage_of_disposable_income)"
   ]
  },
  {
   "cell_type": "markdown",
   "id": "df89ab28",
   "metadata": {},
   "source": [
    "## Here it is too much screwed to the left."
   ]
  },
  {
   "cell_type": "code",
   "execution_count": 61,
   "id": "54f2dbc4",
   "metadata": {},
   "outputs": [
    {
     "name": "stderr",
     "output_type": "stream",
     "text": [
      "C:\\Users\\RAJA\\anaconda3\\lib\\site-packages\\seaborn\\_decorators.py:36: FutureWarning: Pass the following variable as a keyword arg: x. From version 0.12, the only valid positional argument will be `data`, and passing other arguments without an explicit keyword will result in an error or misinterpretation.\n",
      "  warnings.warn(\n"
     ]
    },
    {
     "data": {
      "text/plain": [
       "<AxesSubplot:xlabel='Principal_loan_amount'>"
      ]
     },
     "execution_count": 61,
     "metadata": {},
     "output_type": "execute_result"
    },
    {
     "data": {
      "image/png": "[encoded data removed]",
      "text/plain": [
       "<Figure size 432x288 with 1 Axes>"
      ]
     },
     "metadata": {
      "needs_background": "light"
     },
     "output_type": "display_data"
    }
   ],
   "source": [
    "sns.boxplot(df.Principal_loan_amount)"
   ]
  },
  {
   "cell_type": "markdown",
   "id": "ddd69319",
   "metadata": {},
   "source": [
    "## Here we can see there are so many outliers present in the Principal Loan Amount Column, So we need to fix the outliers."
   ]
  },
  {
   "cell_type": "code",
   "execution_count": 62,
   "id": "650dd77b",
   "metadata": {},
   "outputs": [],
   "source": [
    "#Created a function to remove outliers from the data using IQR.\n",
    "\n",
    "def remove_outlier(df_in, col_name):\n",
    "    q1 = df_in[col_name].quantile(0.25)\n",
    "    q3 = df_in[col_name].quantile(0.75)\n",
    "    iqr = q3-q1 #Interquartile range\n",
    "    fence_low  = q1-1.5*iqr\n",
    "    fence_high = q3+1.5*iqr\n",
    "    df_out = df_in.loc[(df_in[col_name] > fence_low) & (df_in[col_name] < fence_high)]\n",
    "    return df_out"
   ]
  },
  {
   "cell_type": "code",
   "execution_count": 75,
   "id": "4529ea19",
   "metadata": {},
   "outputs": [],
   "source": [
    "#Repeating this step untill there is no outliers left in the column.\n",
    "\n",
    "df=remove_outlier(df,'Principal_loan_amount')"
   ]
  },
  {
   "cell_type": "code",
   "execution_count": 76,
   "id": "96002a6b",
   "metadata": {},
   "outputs": [
    {
     "name": "stderr",
     "output_type": "stream",
     "text": [
      "C:\\Users\\RAJA\\anaconda3\\lib\\site-packages\\seaborn\\_decorators.py:36: FutureWarning: Pass the following variable as a keyword arg: x. From version 0.12, the only valid positional argument will be `data`, and passing other arguments without an explicit keyword will result in an error or misinterpretation.\n",
      "  warnings.warn(\n"
     ]
    },
    {
     "data": {
      "text/plain": [
       "<AxesSubplot:xlabel='Principal_loan_amount'>"
      ]
     },
     "execution_count": 76,
     "metadata": {},
     "output_type": "execute_result"
    },
    {
     "data": {
      "image/png": "[encoded data removed]",
      "text/plain": [
       "<Figure size 432x288 with 1 Axes>"
      ]
     },
     "metadata": {
      "needs_background": "light"
     },
     "output_type": "display_data"
    }
   ],
   "source": [
    "sns.boxplot(df.Principal_loan_amount)"
   ]
  },
  {
   "cell_type": "code",
   "execution_count": 77,
   "id": "9ed28f29",
   "metadata": {},
   "outputs": [],
   "source": [
    "#Setting labels and target column\n",
    "\n",
    "x=df.iloc[:,:-1]\n",
    "y=df['high_risk_applicant']"
   ]
  },
  {
   "cell_type": "code",
   "execution_count": 78,
   "id": "265e21d9",
   "metadata": {},
   "outputs": [],
   "source": [
    "#importing ML Libraries\n",
    "\n",
    "from sklearn.feature_selection import RFE\n",
    "from sklearn.linear_model import LogisticRegression\n",
    "from sklearn.tree import DecisionTreeClassifier\n",
    "from sklearn.naive_bayes import GaussianNB, MultinomialNB, BernoulliNB\n",
    "from sklearn.neighbors import KNeighborsClassifier\n",
    "from sklearn.svm import SVC"
   ]
  },
  {
   "cell_type": "code",
   "execution_count": 79,
   "id": "ab76d9cc",
   "metadata": {},
   "outputs": [],
   "source": [
    "#Creating a Decision Tree Classification model\n",
    "\n",
    "model=DecisionTreeClassifier()"
   ]
  },
  {
   "cell_type": "code",
   "execution_count": 80,
   "id": "8be2379a",
   "metadata": {},
   "outputs": [],
   "source": [
    "#Using RFE for feature selection\n",
    "\n",
    "rfe=RFE(model,n_features_to_select=10)"
   ]
  },
  {
   "cell_type": "code",
   "execution_count": 81,
   "id": "b0dec7c3",
   "metadata": {},
   "outputs": [],
   "source": [
    "from sklearn.model_selection import train_test_split,KFold,cross_val_score"
   ]
  },
  {
   "cell_type": "code",
   "execution_count": 82,
   "id": "91213d52",
   "metadata": {},
   "outputs": [],
   "source": [
    "#Splitting train and test data\n",
    "\n",
    "X_train, X_test, y_train, y_test = train_test_split(x,y,test_size=0.2,random_state=45)"
   ]
  },
  {
   "cell_type": "code",
   "execution_count": 85,
   "id": "7f46e4c0",
   "metadata": {},
   "outputs": [
    {
     "data": {
      "text/plain": [
       "array([ True, False,  True,  True, False,  True, False, False,  True,\n",
       "        True,  True,  True, False,  True, False, False, False,  True])"
      ]
     },
     "execution_count": 85,
     "metadata": {},
     "output_type": "execute_result"
    }
   ],
   "source": [
    "#Using RFE to findind important labels\n",
    "\n",
    "r=rfe.fit(X_train,y_train)\n",
    "rs=r.get_support()\n",
    "rs=r.get_support()\n",
    "rs"
   ]
  },
  {
   "cell_type": "code",
   "execution_count": 115,
   "id": "d1da0f06",
   "metadata": {},
   "outputs": [
    {
     "data": {
      "text/plain": [
       "Index(['Primary_applicant_age_in_years', 'Gender', 'Marital_status', 'Housing',\n",
       "       'Employment_status', 'Has_been_employed_for_at_least',\n",
       "       'Has_been_employed_for_at_most', 'Foreign_worker',\n",
       "       'Savings_account_balance', 'Months_loan_taken_for', 'Purpose',\n",
       "       'Principal_loan_amount', 'EMI_rate_in_percentage_of_disposable_income',\n",
       "       'Property', 'Has_coapplicant', 'Has_guarantor',\n",
       "       'Number_of_existing_loans_at_this_bank', 'Loan_history'],\n",
       "      dtype='object')"
      ]
     },
     "execution_count": 115,
     "metadata": {},
     "output_type": "execute_result"
    }
   ],
   "source": [
    "X_train.columns"
   ]
  },
  {
   "cell_type": "markdown",
   "id": "abe42a68",
   "metadata": {},
   "source": [
    "# Using Random Forest Classification Algorithm "
   ]
  },
  {
   "cell_type": "code",
   "execution_count": 86,
   "id": "a453e580",
   "metadata": {},
   "outputs": [],
   "source": [
    "from sklearn.ensemble import RandomForestClassifier"
   ]
  },
  {
   "cell_type": "code",
   "execution_count": 87,
   "id": "75dfcc0d",
   "metadata": {},
   "outputs": [],
   "source": [
    "model=RandomForestClassifier(n_estimators=50)"
   ]
  },
  {
   "cell_type": "code",
   "execution_count": 88,
   "id": "2331e5d8",
   "metadata": {},
   "outputs": [
    {
     "data": {
      "text/plain": [
       "RandomForestClassifier(n_estimators=50)"
      ]
     },
     "execution_count": 88,
     "metadata": {},
     "output_type": "execute_result"
    }
   ],
   "source": [
    "model.fit(X_train,y_train)"
   ]
  },
  {
   "cell_type": "code",
   "execution_count": 89,
   "id": "f69c7d01",
   "metadata": {},
   "outputs": [],
   "source": [
    "out=model.predict(X_test)"
   ]
  },
  {
   "cell_type": "code",
   "execution_count": 90,
   "id": "65c48a16",
   "metadata": {},
   "outputs": [],
   "source": [
    "from sklearn.metrics import accuracy_score,precision_score,f1_score,confusion_matrix"
   ]
  },
  {
   "cell_type": "code",
   "execution_count": 94,
   "id": "be8512e8",
   "metadata": {},
   "outputs": [
    {
     "data": {
      "text/plain": [
       "0.7365269461077845"
      ]
     },
     "execution_count": 94,
     "metadata": {},
     "output_type": "execute_result"
    }
   ],
   "source": [
    "#Checking accuracy of the model\n",
    "\n",
    "accuracy_score(y_test,out)"
   ]
  },
  {
   "cell_type": "code",
   "execution_count": 95,
   "id": "0367285e",
   "metadata": {},
   "outputs": [
    {
     "data": {
      "text/plain": [
       "0.4117647058823529"
      ]
     },
     "execution_count": 95,
     "metadata": {},
     "output_type": "execute_result"
    }
   ],
   "source": [
    "#Checking the precision score of the model.\n",
    "\n",
    "precision_score(y_test,out)"
   ]
  },
  {
   "cell_type": "code",
   "execution_count": 96,
   "id": "32bc23c9",
   "metadata": {},
   "outputs": [
    {
     "data": {
      "text/plain": [
       "array([[116,  10],\n",
       "       [ 34,   7]], dtype=int64)"
      ]
     },
     "execution_count": 96,
     "metadata": {},
     "output_type": "execute_result"
    }
   ],
   "source": [
    "#Confusion matrix\n",
    "\n",
    "confusion_matrix(y_test,out)"
   ]
  },
  {
   "cell_type": "code",
   "execution_count": 97,
   "id": "d4e8fdfe",
   "metadata": {},
   "outputs": [],
   "source": [
    "#Using KFold technique to select split train and test.\n",
    "\n",
    "Kf=KFold(n_splits=50,shuffle=True,random_state=45)"
   ]
  },
  {
   "cell_type": "code",
   "execution_count": 98,
   "id": "de2e53cd",
   "metadata": {},
   "outputs": [
    {
     "data": {
      "text/plain": [
       "0.7350549450549453"
      ]
     },
     "execution_count": 98,
     "metadata": {},
     "output_type": "execute_result"
    }
   ],
   "source": [
    "#Using Cross validation score and finding the mean accuracy of the model.\n",
    "\n",
    "score=cross_val_score(model,X_train,y_train,cv=Kf)\n",
    "sum(score)/len(score)"
   ]
  },
  {
   "cell_type": "markdown",
   "id": "005bc8f7",
   "metadata": {},
   "source": [
    "# Using Ensemble Learning Technique"
   ]
  },
  {
   "cell_type": "code",
   "execution_count": 99,
   "id": "c1947a17",
   "metadata": {},
   "outputs": [],
   "source": [
    "#Creating layers\n",
    "\n",
    "layer1=[]\n",
    "layer2=LogisticRegression()\n",
    "layer1.append(('dt',DecisionTreeClassifier()))\n",
    "layer1.append(('KNN',KNeighborsClassifier()))\n",
    "layer1.append(('SVC',SVC()))\n",
    "layer1.append(('gnb',GaussianNB()))\n",
    "layer1.append( ('Mnb',MultinomialNB()))\n",
    "layer1.append(('BNB' ,BernoulliNB()))\n",
    "layer1.append(('lr' ,LogisticRegression()))\n"
   ]
  },
  {
   "cell_type": "code",
   "execution_count": 100,
   "id": "4521af2b",
   "metadata": {},
   "outputs": [],
   "source": [
    "from sklearn.ensemble import StackingClassifier"
   ]
  },
  {
   "cell_type": "code",
   "execution_count": 101,
   "id": "5811acd4",
   "metadata": {},
   "outputs": [],
   "source": [
    "stacking_model=StackingClassifier(estimators=layer1,final_estimator=layer2)"
   ]
  },
  {
   "cell_type": "code",
   "execution_count": 102,
   "id": "71f74e52",
   "metadata": {},
   "outputs": [],
   "source": [
    "out2=model.predict(X_test)"
   ]
  },
  {
   "cell_type": "code",
   "execution_count": 103,
   "id": "106a824f",
   "metadata": {},
   "outputs": [
    {
     "data": {
      "text/plain": [
       "0.7365269461077845"
      ]
     },
     "execution_count": 103,
     "metadata": {},
     "output_type": "execute_result"
    }
   ],
   "source": [
    "accuracy_score(out2,y_test)"
   ]
  },
  {
   "cell_type": "code",
   "execution_count": 104,
   "id": "7dbdfa67",
   "metadata": {},
   "outputs": [
    {
     "data": {
      "text/plain": [
       "0.4117647058823529"
      ]
     },
     "execution_count": 104,
     "metadata": {},
     "output_type": "execute_result"
    }
   ],
   "source": [
    "precision_score(y_test,out2)"
   ]
  },
  {
   "cell_type": "code",
   "execution_count": 105,
   "id": "ff59925e",
   "metadata": {},
   "outputs": [
    {
     "data": {
      "text/plain": [
       "array([[116,  10],\n",
       "       [ 34,   7]], dtype=int64)"
      ]
     },
     "execution_count": 105,
     "metadata": {},
     "output_type": "execute_result"
    }
   ],
   "source": [
    "confusion_matrix(y_test,out2)"
   ]
  },
  {
   "cell_type": "code",
   "execution_count": 107,
   "id": "7a821044",
   "metadata": {},
   "outputs": [
    {
     "data": {
      "text/plain": [
       "0.7215384615384616"
      ]
     },
     "execution_count": 107,
     "metadata": {},
     "output_type": "execute_result"
    }
   ],
   "source": [
    "score=cross_val_score(stacking_model,X_train,y_train,cv=Kf)\n",
    "sum(score)/len(score)"
   ]
  },
  {
   "cell_type": "markdown",
   "id": "91ee8003",
   "metadata": {},
   "source": [
    "# Hence, we can say that the given data provides ~73% accurate predictions."
   ]
  },
  {
   "cell_type": "code",
   "execution_count": null,
   "id": "2b9f044a",
   "metadata": {},
   "outputs": [],
   "source": []
  },
  {
   "cell_type": "code",
   "execution_count": 141,
   "id": "906dafd4",
   "metadata": {},
   "outputs": [
    {
     "data": {
      "text/plain": [
       "<AxesSubplot:ylabel='high_risk_applicant'>"
      ]
     },
     "execution_count": 141,
     "metadata": {},
     "output_type": "execute_result"
    },
    {
     "data": {
      "image/png": "[encoded data removed]",
      "text/plain": [
       "<Figure size 432x288 with 1 Axes>"
      ]
     },
     "metadata": {},
     "output_type": "display_data"
    }
   ],
   "source": []
  },
  {
   "cell_type": "code",
   "execution_count": null,
   "id": "d99c60f5",
   "metadata": {},
   "outputs": [],
   "source": []
  },
  {
   "cell_type": "code",
   "execution_count": 142,
   "id": "60bd1fd3",
   "metadata": {},
   "outputs": [
    {
     "data": {
      "text/plain": [
       "<AxesSubplot:xlabel='Primary_applicant_age_in_years', ylabel='Count'>"
      ]
     },
     "execution_count": 142,
     "metadata": {},
     "output_type": "execute_result"
    },
    {
     "data": {
      "image/png": "[encoded data removed]",
      "text/plain": [
       "<Figure size 432x288 with 1 Axes>"
      ]
     },
     "metadata": {
      "needs_background": "light"
     },
     "output_type": "display_data"
    }
   ],
   "source": [
    "sns.histplot(df.Primary_applicant_age_in_years)"
   ]
  },
  {
   "cell_type": "code",
   "execution_count": 143,
   "id": "d277af49",
   "metadata": {},
   "outputs": [],
   "source": []
  },
  {
   "cell_type": "code",
   "execution_count": 144,
   "id": "6c94ce08",
   "metadata": {},
   "outputs": [],
   "source": []
  },
  {
   "cell_type": "code",
   "execution_count": 145,
   "id": "370bfb17",
   "metadata": {},
   "outputs": [
    {
     "data": {
      "text/html": [
       "<div>\n",
       "<style scoped>\n",
       "    .dataframe tbody tr th:only-of-type {\n",
       "        vertical-align: middle;\n",
       "    }\n",
       "\n",
       "    .dataframe tbody tr th {\n",
       "        vertical-align: top;\n",
       "    }\n",
       "\n",
       "    .dataframe thead th {\n",
       "        text-align: right;\n",
       "    }\n",
       "</style>\n",
       "<table border=\"1\" class=\"dataframe\">\n",
       "  <thead>\n",
       "    <tr style=\"text-align: right;\">\n",
       "      <th></th>\n",
       "      <th>Marital_status</th>\n",
       "      <th>count</th>\n",
       "    </tr>\n",
       "  </thead>\n",
       "  <tbody>\n",
       "    <tr>\n",
       "      <th>0</th>\n",
       "      <td>0</td>\n",
       "      <td>16</td>\n",
       "    </tr>\n",
       "    <tr>\n",
       "      <th>1</th>\n",
       "      <td>1</td>\n",
       "      <td>87</td>\n",
       "    </tr>\n",
       "    <tr>\n",
       "      <th>2</th>\n",
       "      <td>2</td>\n",
       "      <td>23</td>\n",
       "    </tr>\n",
       "    <tr>\n",
       "      <th>3</th>\n",
       "      <td>3</td>\n",
       "      <td>103</td>\n",
       "    </tr>\n",
       "  </tbody>\n",
       "</table>\n",
       "</div>"
      ],
      "text/plain": [
       "   Marital_status  count\n",
       "0               0     16\n",
       "1               1     87\n",
       "2               2     23\n",
       "3               3    103"
      ]
     },
     "execution_count": 145,
     "metadata": {},
     "output_type": "execute_result"
    }
   ],
   "source": []
  },
  {
   "cell_type": "code",
   "execution_count": 146,
   "id": "86c9e193",
   "metadata": {},
   "outputs": [
    {
     "data": {
      "text/html": [
       "<div>\n",
       "<style scoped>\n",
       "    .dataframe tbody tr th:only-of-type {\n",
       "        vertical-align: middle;\n",
       "    }\n",
       "\n",
       "    .dataframe tbody tr th {\n",
       "        vertical-align: top;\n",
       "    }\n",
       "\n",
       "    .dataframe thead th {\n",
       "        text-align: right;\n",
       "    }\n",
       "</style>\n",
       "<table border=\"1\" class=\"dataframe\">\n",
       "  <thead>\n",
       "    <tr style=\"text-align: right;\">\n",
       "      <th></th>\n",
       "      <th>Gender</th>\n",
       "      <th>count</th>\n",
       "    </tr>\n",
       "  </thead>\n",
       "  <tbody>\n",
       "    <tr>\n",
       "      <th>0</th>\n",
       "      <td>0</td>\n",
       "      <td>185</td>\n",
       "    </tr>\n",
       "    <tr>\n",
       "      <th>1</th>\n",
       "      <td>1</td>\n",
       "      <td>421</td>\n",
       "    </tr>\n",
       "  </tbody>\n",
       "</table>\n",
       "</div>"
      ],
      "text/plain": [
       "   Gender  count\n",
       "0       0    185\n",
       "1       1    421"
      ]
     },
     "execution_count": 146,
     "metadata": {},
     "output_type": "execute_result"
    }
   ],
   "source": [
    "b.groupby(['Gender'])['high_risk_applicant'].agg(['count']).reset_index()"
   ]
  },
  {
   "cell_type": "code",
   "execution_count": null,
   "id": "68e4a596",
   "metadata": {},
   "outputs": [],
   "source": []
  },
  {
   "cell_type": "code",
   "execution_count": null,
   "id": "a2158b6c",
   "metadata": {},
   "outputs": [],
   "source": []
  },
  {
   "cell_type": "code",
   "execution_count": null,
   "id": "38036241",
   "metadata": {},
   "outputs": [],
   "source": []
  }
 ],
 "metadata": {
  "kernelspec": {
   "display_name": "Python 3 (ipykernel)",
   "language": "python",
   "name": "python3"
  },
  "language_info": {
   "codemirror_mode": {
    "name": "ipython",
    "version": 3
   },
   "file_extension": ".py",
   "mimetype": "text/x-python",
   "name": "python",
   "nbconvert_exporter": "python",
   "pygments_lexer": "ipython3",
   "version": "3.9.7"
  }
 },
 "nbformat": 4,
 "nbformat_minor": 5
}
